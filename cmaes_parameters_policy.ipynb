{
 "cells": [
  {
   "cell_type": "markdown",
   "metadata": {},
   "source": [
    "# Modifying and Loading Parameters of Policies"
   ]
  },
  {
   "cell_type": "markdown",
   "metadata": {},
   "source": [
    "## Importing Libraries"
   ]
  },
  {
   "cell_type": "code",
   "execution_count": 12,
   "metadata": {},
   "outputs": [],
   "source": [
    "from typing import Dict\n",
    "\n",
    "import gym\n",
    "import numpy as np\n",
    "import cma\n",
    "from collections import OrderedDict\n",
    "import torch as th\n",
    "\n",
    "from stable_baselines3 import A2C\n",
    "from stable_baselines3.common.evaluation import evaluate_policy"
   ]
  },
  {
   "cell_type": "markdown",
   "metadata": {},
   "source": [
    "## Function to Convert Params Dict to Flattened N-D array"
   ]
  },
  {
   "cell_type": "code",
   "execution_count": 13,
   "metadata": {},
   "outputs": [],
   "source": [
    "def flatten(params):\n",
    "    \"\"\"\n",
    "    :param params: (dict)\n",
    "    :return: (np.ndarray)\n",
    "    \"\"\"\n",
    "    params_ = []\n",
    "    for key in params.keys():\n",
    "        params_.append(params[key].flatten())\n",
    "    return np.concatenate(params_)"
   ]
  },
  {
   "cell_type": "markdown",
   "metadata": {},
   "source": [
    "## Convert to Flattened Params to Dictionary"
   ]
  },
  {
   "cell_type": "code",
   "execution_count": 14,
   "metadata": {},
   "outputs": [],
   "source": [
    "def to_dict(flat_vec, params):\n",
    "    \"\"\"\n",
    "    :param flat_vec: (np.ndarray)\n",
    "    :param params: (OrderedDict)\n",
    "    :return: (OrderedDict)\n",
    "    \"\"\"\n",
    "    params_ = OrderedDict()\n",
    "    start_idx = 0\n",
    "    for key in params.keys():\n",
    "        n_elem = list(params[key].size())\n",
    "        # print(n_elem, params[key].nelement())\n",
    "        params_[key] = th.from_numpy(flat_vec[start_idx:start_idx + params[key].nelement()].reshape(params[key].shape))\n",
    "        start_idx += params[key].nelement()\n",
    "    return params_"
   ]
  },
  {
   "cell_type": "markdown",
   "metadata": {},
   "source": [
    "## Create Model and Find Initial Parameters"
   ]
  },
  {
   "cell_type": "code",
   "execution_count": 15,
   "metadata": {},
   "outputs": [
    {
     "name": "stdout",
     "output_type": "stream",
     "text": [
      "160.7 174.7 158.4 165.7 160.1 155.0 160.7 157.5 163.4 170.5 \n",
      "Iterations 10  Mean top 10% reward: -155.00\n"
     ]
    }
   ],
   "source": [
    "env = gym.make('CartPole-v1')\n",
    "model = A2C(\n",
    "    \"MlpPolicy\",\n",
    "    env\n",
    ")\n",
    "\n",
    "# Use traditional actor-critic policy gradient updates to\n",
    "# find good initial parameters\n",
    "model.learn(total_timesteps=10_000)\n",
    "\n",
    "fitnesses = []\n",
    "iterations = 10\n",
    "for i in range(iterations):\n",
    "    fitness, _ = evaluate_policy(model, env)\n",
    "    print(fitness, end=\" \")\n",
    "    fitnesses.append(fitness)\n",
    "\n",
    "mean_fitness = np.mean(sorted(fitnesses)[:int(0.1 * iterations)])\n",
    "print(\"\\nIterations {:<3} Mean top 10% reward: {:.2f}\".format(iterations, -mean_fitness))"
   ]
  },
  {
   "cell_type": "markdown",
   "metadata": {},
   "source": [
    "## Retrieve Policy Parameters"
   ]
  },
  {
   "cell_type": "code",
   "execution_count": 16,
   "metadata": {},
   "outputs": [
    {
     "data": {
      "text/plain": [
       "{'mlp_extractor.policy_net.0.weight': tensor([[-0.2133, -0.0659, -0.2679, -0.2098],\n",
       "         [ 0.0783,  0.0727,  0.0269, -0.1212],\n",
       "         [ 0.1607,  0.4384, -0.0209, -0.0929],\n",
       "         [-0.0373, -0.0996, -0.1436, -0.2268],\n",
       "         [-0.1674,  0.1741, -0.2317, -0.2255],\n",
       "         [-0.1217, -0.0444,  0.0895, -0.1604],\n",
       "         [ 0.2357, -0.0377,  0.0425, -0.4285],\n",
       "         [-0.1429, -0.0406, -0.0664, -0.1667],\n",
       "         [-0.2128, -0.1823,  0.3424,  0.0853],\n",
       "         [ 0.0107, -0.2913, -0.0465, -0.0077],\n",
       "         [ 0.1249, -0.0828,  0.0830, -0.0194],\n",
       "         [ 0.1758,  0.1716,  0.4806,  0.1782],\n",
       "         [-0.0174,  0.0600,  0.1147, -0.0959],\n",
       "         [ 0.1657,  0.0301, -0.2597, -0.2295],\n",
       "         [ 0.0511,  0.1210,  0.0369,  0.2135],\n",
       "         [ 0.4613, -0.0224, -0.2029, -0.2504],\n",
       "         [ 0.1216,  0.0475,  0.5653,  0.2119],\n",
       "         [-0.0249, -0.0597,  0.0067, -0.1585],\n",
       "         [ 0.0817, -0.1309,  0.3817,  0.3043],\n",
       "         [ 0.1671, -0.0944,  0.1569, -0.6188],\n",
       "         [ 0.1402,  0.1840,  0.2629, -0.0972],\n",
       "         [ 0.3663, -0.0748, -0.3387, -0.0243],\n",
       "         [ 0.2204,  0.0703, -0.0381,  0.2154],\n",
       "         [-0.0313,  0.3061,  0.0894,  0.5281],\n",
       "         [-0.2234,  0.0428,  0.0694,  0.2815],\n",
       "         [ 0.1900, -0.3329, -0.1426, -0.1400],\n",
       "         [-0.0049,  0.2168,  0.1237, -0.1865],\n",
       "         [-0.0421, -0.1498,  0.0847,  0.3246],\n",
       "         [ 0.2593,  0.2536,  0.0836,  0.2866],\n",
       "         [-0.0696, -0.0178, -0.0428,  0.0838],\n",
       "         [-0.2783,  0.1358,  0.0404,  0.0502],\n",
       "         [-0.2865, -0.0655,  0.0672, -0.2996],\n",
       "         [-0.0753, -0.1010, -0.2208, -0.1490],\n",
       "         [ 0.2341, -0.0712,  0.1018, -0.1996],\n",
       "         [-0.3684, -0.2074, -0.0153,  0.2246],\n",
       "         [ 0.0233, -0.1844,  0.3352,  0.2010],\n",
       "         [-0.1428, -0.0277, -0.2445, -0.1157],\n",
       "         [-0.0107,  0.1943, -0.0479,  0.0705],\n",
       "         [-0.0519, -0.2294,  0.0237,  0.0156],\n",
       "         [ 0.3508, -0.0484, -0.3767, -0.0589],\n",
       "         [ 0.1711,  0.1268, -0.1062, -0.1475],\n",
       "         [-0.1591,  0.3440, -0.2989, -0.2207],\n",
       "         [-0.0094, -0.2433, -0.1857, -0.1139],\n",
       "         [ 0.0927, -0.1089,  0.0230, -0.2453],\n",
       "         [ 0.1725, -0.0123, -0.3312, -0.2216],\n",
       "         [-0.0698,  0.1021, -0.1168, -0.2616],\n",
       "         [ 0.2537, -0.0353, -0.1023, -0.0512],\n",
       "         [-0.1444,  0.0741,  0.2230,  0.0872],\n",
       "         [-0.0024, -0.0767,  0.0212, -0.1695],\n",
       "         [ 0.1776, -0.2442, -0.1551, -0.2741],\n",
       "         [ 0.1400, -0.0614, -0.4956, -0.2108],\n",
       "         [-0.2240,  0.1881,  0.1337,  0.0643],\n",
       "         [ 0.0107, -0.1817, -0.2832, -0.1833],\n",
       "         [-0.0878, -0.0739, -0.1341,  0.1530],\n",
       "         [ 0.0129, -0.0405, -0.2160, -0.3697],\n",
       "         [ 0.0107,  0.1411,  0.0520, -0.0891],\n",
       "         [ 0.1640, -0.3613,  0.5845,  0.2220],\n",
       "         [-0.1282,  0.2261,  0.1485, -0.0615],\n",
       "         [-0.0581, -0.1491, -0.3191, -0.3911],\n",
       "         [-0.0010,  0.0816,  0.2631,  0.2631],\n",
       "         [ 0.1512, -0.1382,  0.0516,  0.2781],\n",
       "         [ 0.2283,  0.0560, -0.3415,  0.1382],\n",
       "         [ 0.2448, -0.0717, -0.2286, -0.3679],\n",
       "         [-0.0643, -0.2696, -0.1893, -0.1797]]),\n",
       " 'mlp_extractor.policy_net.0.bias': tensor([ 0.0328,  0.0070, -0.0473,  0.0134,  0.0173,  0.0083,  0.0088,  0.0148,\n",
       "         -0.0285,  0.0457,  0.0343, -0.0315, -0.0186,  0.0192, -0.0255,  0.0324,\n",
       "         -0.0247,  0.0297, -0.0154,  0.0169,  0.0009,  0.0544, -0.0225, -0.0144,\n",
       "         -0.0213,  0.0330, -0.0022, -0.0160, -0.0235, -0.0520, -0.0329,  0.0162,\n",
       "          0.0222,  0.0257, -0.0099, -0.0165,  0.0338, -0.0328,  0.0337,  0.0522,\n",
       "          0.0168,  0.0046,  0.0364,  0.0129,  0.0229,  0.0204,  0.0272, -0.0439,\n",
       "          0.0282,  0.0239,  0.0340, -0.0324,  0.0257, -0.0198,  0.0168, -0.0226,\n",
       "         -0.0151, -0.0520,  0.0253, -0.0137, -0.0085, -0.0215,  0.0214,  0.0244]),\n",
       " 'mlp_extractor.policy_net.2.weight': tensor([[-0.1831,  0.5315, -0.1266,  ..., -0.0124,  0.0164,  0.0632],\n",
       "         [ 0.0348,  0.0721, -0.0340,  ...,  0.3400,  0.2613,  0.0674],\n",
       "         [-0.1619, -0.0430, -0.0535,  ...,  0.1005, -0.2517,  0.4355],\n",
       "         ...,\n",
       "         [ 0.2314, -0.0885,  0.2647,  ..., -0.0066,  0.0512, -0.0641],\n",
       "         [-0.0264, -0.3357, -0.1655,  ...,  0.0278, -0.4700, -0.2026],\n",
       "         [-0.0245, -0.2487, -0.3747,  ...,  0.1112, -0.0841,  0.0980]]),\n",
       " 'mlp_extractor.policy_net.2.bias': tensor([ 0.0134,  0.0116,  0.0351,  0.0156,  0.0118, -0.0179,  0.0410,  0.0163,\n",
       "         -0.0405,  0.0217, -0.0119, -0.0235,  0.0088,  0.0446,  0.0197,  0.0180,\n",
       "         -0.0234,  0.0144,  0.0131,  0.0326,  0.0208, -0.0237,  0.0174, -0.0459,\n",
       "          0.0335,  0.0394, -0.0121,  0.0126,  0.0090, -0.0155,  0.0286, -0.0130,\n",
       "          0.0134, -0.0395, -0.0221,  0.0225, -0.0118, -0.0156, -0.0150,  0.0181,\n",
       "         -0.0154,  0.0097, -0.0317, -0.0375,  0.0363, -0.0114,  0.0150,  0.0365,\n",
       "          0.0123, -0.0126,  0.0132,  0.0171,  0.0170,  0.0135, -0.0147,  0.0088,\n",
       "         -0.0329, -0.0321,  0.0449, -0.0125, -0.0152,  0.0174, -0.0110, -0.0128]),\n",
       " 'mlp_extractor.value_net.0.weight': tensor([[-0.1131,  0.1277, -0.3036, -0.1448],\n",
       "         [ 0.1672, -0.3993, -0.0798, -0.1742],\n",
       "         [-0.0500, -0.0401, -0.1127,  0.2100],\n",
       "         [-0.0204,  0.1498,  0.1219, -0.1429],\n",
       "         [-0.3913, -0.0143, -0.2284, -0.0376],\n",
       "         [ 0.2944, -0.0206, -0.0173, -0.2521],\n",
       "         [ 0.0682,  0.0422,  0.1494,  0.1472],\n",
       "         [ 0.0990,  0.2490, -0.2291,  0.1884],\n",
       "         [-0.0422, -0.0819, -0.0133,  0.2319],\n",
       "         [ 0.0676, -0.0752,  0.3712, -0.1437],\n",
       "         [ 0.0729,  0.1347, -0.0789, -0.0277],\n",
       "         [-0.1688,  0.1874,  0.0940, -0.0811],\n",
       "         [-0.0125, -0.0497, -0.0565,  0.0775],\n",
       "         [ 0.0786,  0.1314, -0.2046, -0.1936],\n",
       "         [-0.1456, -0.0639, -0.0788,  0.1112],\n",
       "         [ 0.0237, -0.3617,  0.0451, -0.1196],\n",
       "         [ 0.1953, -0.0566, -0.3396, -0.0773],\n",
       "         [-0.3429,  0.0172, -0.0061,  0.1801],\n",
       "         [-0.1046,  0.2867, -0.0782, -0.0684],\n",
       "         [-0.0900,  0.0800,  0.0341,  0.1049],\n",
       "         [-0.1192,  0.2176,  0.1958,  0.1837],\n",
       "         [ 0.0609, -0.1481, -0.3020, -0.2587],\n",
       "         [-0.0483,  0.1662, -0.1133,  0.1403],\n",
       "         [-0.3685,  0.1705,  0.0172,  0.1358],\n",
       "         [ 0.1724, -0.1936, -0.2672, -0.2706],\n",
       "         [-0.2780,  0.0624,  0.0469, -0.1811],\n",
       "         [ 0.2198,  0.2218,  0.1671,  0.1134],\n",
       "         [ 0.2857,  0.1748, -0.1786,  0.3327],\n",
       "         [ 0.0847, -0.0687,  0.0527,  0.0154],\n",
       "         [ 0.2330,  0.2152,  0.0338,  0.0106],\n",
       "         [ 0.1321,  0.0541, -0.0580,  0.2105],\n",
       "         [ 0.1126, -0.1579, -0.2149, -0.0981],\n",
       "         [-0.1190, -0.2216,  0.1139, -0.0562],\n",
       "         [-0.1651, -0.1639, -0.2887,  0.0512],\n",
       "         [-0.1532,  0.1475, -0.2931,  0.2656],\n",
       "         [ 0.1153,  0.1693, -0.3396,  0.2643],\n",
       "         [-0.0203,  0.0063,  0.0978, -0.0553],\n",
       "         [-0.2633,  0.1444, -0.1463, -0.3924],\n",
       "         [-0.0185, -0.1564, -0.1211, -0.0220],\n",
       "         [ 0.0500,  0.0258, -0.1433,  0.0539],\n",
       "         [-0.0997, -0.0278, -0.0321,  0.0375],\n",
       "         [ 0.1457, -0.1603, -0.3266, -0.0900],\n",
       "         [ 0.1801,  0.0629,  0.0269,  0.1849],\n",
       "         [-0.3012,  0.1742, -0.0432, -0.1074],\n",
       "         [-0.0026, -0.0045, -0.3191,  0.0693],\n",
       "         [ 0.0712, -0.0111,  0.1564, -0.0207],\n",
       "         [ 0.1793, -0.1002, -0.3206, -0.0833],\n",
       "         [ 0.1823,  0.2094, -0.1093,  0.0993],\n",
       "         [-0.0774, -0.0690, -0.0045, -0.1411],\n",
       "         [ 0.0775, -0.1195, -0.0568, -0.0634],\n",
       "         [ 0.0115, -0.0322, -0.1462,  0.1494],\n",
       "         [ 0.0283,  0.0189,  0.1814,  0.0369],\n",
       "         [ 0.1253, -0.1374,  0.1597,  0.0165],\n",
       "         [ 0.0804,  0.1234, -0.2393, -0.0936],\n",
       "         [ 0.0702,  0.0053,  0.1425, -0.1831],\n",
       "         [ 0.1180, -0.0268,  0.1856,  0.0728],\n",
       "         [ 0.0875, -0.0779, -0.1618, -0.0349],\n",
       "         [ 0.0717,  0.0554, -0.1340, -0.0197],\n",
       "         [ 0.1290,  0.0499,  0.0186, -0.1115],\n",
       "         [-0.1506,  0.1526, -0.3954,  0.0570],\n",
       "         [ 0.3309,  0.0131, -0.1329, -0.3147],\n",
       "         [-0.1836,  0.0699,  0.0581, -0.3782],\n",
       "         [-0.0277,  0.3899, -0.0555, -0.1939],\n",
       "         [ 0.0042, -0.1668, -0.0444,  0.1410]]),\n",
       " 'mlp_extractor.value_net.0.bias': tensor([ 0.4383,  0.4619,  0.4412, -0.4574,  0.4535,  0.4422, -0.4278,  0.4718,\n",
       "         -0.3745,  0.4466,  0.4667,  0.4689, -0.4788, -0.4330,  0.4688, -0.4424,\n",
       "         -0.4619, -0.4397, -0.3682, -0.4653, -0.4585,  0.3919, -0.4443,  0.4187,\n",
       "          0.4554, -0.4222,  0.4275,  0.4538, -0.4556,  0.4554, -0.4589,  0.4593,\n",
       "         -0.4699, -0.4571, -0.4033,  0.4137,  0.4378, -0.3901, -0.4606, -0.4182,\n",
       "         -0.4361,  0.4241, -0.4665,  0.4269,  0.4712, -0.4313,  0.4717,  0.4690,\n",
       "         -0.4609,  0.4253,  0.4459, -0.4467, -0.4770,  0.4637, -0.4451,  0.4692,\n",
       "          0.4618,  0.4862, -0.4622, -0.4348,  0.2766,  0.4073,  0.3799,  0.4381]),\n",
       " 'mlp_extractor.value_net.2.weight': tensor([[ 0.1552,  0.3826,  0.0493,  ...,  0.1483,  0.1312,  0.1584],\n",
       "         [ 0.4124,  0.1907,  0.2262,  ...,  0.2480,  0.2921, -0.0140],\n",
       "         [ 0.1855,  0.3381,  0.5185,  ..., -0.0013,  0.0641,  0.0877],\n",
       "         ...,\n",
       "         [-0.0101, -0.1944, -0.3409,  ..., -0.2374, -0.1461,  0.1898],\n",
       "         [ 0.3070,  0.1791, -0.0228,  ...,  0.4040,  0.2919,  0.2462],\n",
       "         [-0.0588, -0.2493, -0.1955,  ..., -0.0771, -0.3728,  0.0423]]),\n",
       " 'mlp_extractor.value_net.2.bias': tensor([ 0.2673,  0.2165,  0.2350, -0.3199, -0.3128, -0.2843,  0.2429, -0.2163,\n",
       "          0.2412, -0.2929,  0.3157,  0.2552,  0.2899, -0.2317,  0.2571,  0.2416,\n",
       "         -0.2563, -0.2970,  0.2392, -0.2574, -0.2868, -0.2423, -0.2429,  0.2869,\n",
       "          0.2974, -0.2510,  0.3024,  0.2684,  0.2080,  0.3186, -0.3223, -0.2838,\n",
       "          0.2204,  0.2239, -0.2963,  0.2562, -0.2700,  0.2906,  0.2750,  0.1843,\n",
       "          0.2688,  0.3006,  0.2354,  0.2863,  0.2556,  0.2541,  0.2496, -0.2528,\n",
       "          0.2159, -0.2816, -0.3043, -0.2840,  0.2941, -0.2442, -0.2294, -0.2198,\n",
       "          0.2780,  0.2528, -0.3026,  0.2871, -0.2707, -0.2469,  0.2881, -0.2553]),\n",
       " 'action_net.weight': tensor([[ 0.0776,  0.1226,  0.0784,  0.0877,  0.0678, -0.0655,  0.0593,  0.0909,\n",
       "          -0.1020,  0.1223, -0.0548, -0.1131,  0.0383,  0.0557,  0.1280,  0.0420,\n",
       "          -0.0835,  0.0825,  0.0289,  0.0698,  0.0708, -0.0707,  0.0690, -0.1074,\n",
       "           0.0957,  0.0580, -0.0876,  0.0938,  0.0169, -0.0984,  0.0695, -0.0452,\n",
       "           0.0737, -0.0038, -0.0535,  0.0567, -0.0570, -0.0667, -0.0637,  0.0983,\n",
       "          -0.0654,  0.1051, -0.0207, -0.0988,  0.0655, -0.0948,  0.1173,  0.0022,\n",
       "           0.0489, -0.0873,  0.0742,  0.0721,  0.1212,  0.0560, -0.0968,  0.0313,\n",
       "          -0.0196, -0.0195,  0.0870, -0.0591, -0.0426,  0.0666, -0.0935, -0.0343],\n",
       "         [-0.0763, -0.1223, -0.0785, -0.0867, -0.0688,  0.0658, -0.0617, -0.0913,\n",
       "           0.1007, -0.1203,  0.0555,  0.1140, -0.0361, -0.0556, -0.1274, -0.0406,\n",
       "           0.0825, -0.0841, -0.0281, -0.0671, -0.0689,  0.0707, -0.0651,  0.1077,\n",
       "          -0.0953, -0.0559,  0.0852, -0.0925, -0.0179,  0.0977, -0.0722,  0.0442,\n",
       "          -0.0744,  0.0014,  0.0543, -0.0582,  0.0579,  0.0618,  0.0630, -0.0990,\n",
       "           0.0673, -0.1041,  0.0218,  0.0976, -0.0662,  0.0934, -0.1178, -0.0004,\n",
       "          -0.0489,  0.0889, -0.0747, -0.0718, -0.1191, -0.0520,  0.0973, -0.0299,\n",
       "           0.0187,  0.0198, -0.0896,  0.0570,  0.0455, -0.0719,  0.0926,  0.0345]]),\n",
       " 'action_net.bias': tensor([ 0.0055, -0.0055]),\n",
       " 'value_net.weight': tensor([[ 1.4048,  1.5454,  1.5629, -1.3242, -1.3200, -1.4270,  1.4531, -1.5470,\n",
       "           1.4716, -1.3883,  1.4072,  1.4370,  1.3080, -1.3947,  1.4246,  1.5866,\n",
       "          -1.5841, -1.2991,  1.5498, -1.3977, -1.3442, -1.4444, -1.4786,  1.3848,\n",
       "           1.3116, -1.5062,  1.2946,  1.3579,  1.5293,  1.3171, -1.3339, -1.3539,\n",
       "           1.2470,  1.4646, -1.3609,  1.4292, -1.4220,  1.2893,  1.4254,  1.5186,\n",
       "           1.3806,  1.3237,  1.4958,  1.4023,  1.4464,  1.3373,  1.5094, -1.3879,\n",
       "           1.5653, -1.3308, -1.3657, -1.3269,  1.3116, -1.3658, -1.5988, -1.5194,\n",
       "           1.3259,  1.4163, -1.3250,  1.3508, -1.3468, -1.4952,  1.3865, -1.3620]]),\n",
       " 'value_net.bias': tensor([1.2625])}"
      ]
     },
     "execution_count": 16,
     "metadata": {},
     "output_type": "execute_result"
    }
   ],
   "source": [
    "# Include only variables with \"policy\", \"action\" (policy) or \"shared_net\" (shared layers)\n",
    "# in their name: only these ones affect the action.\n",
    "# NOTE: you can retrieve those parameters using model.get_parameters() too\n",
    "mean_params = dict(\n",
    "    (key, value)\n",
    "    for key, value in model.policy.state_dict().items()\n",
    "    # if (\"policy\" in key or \"shared_net\" in key or \"action\" in key)\n",
    ")\n",
    "\n",
    "mean_params"
   ]
  },
  {
   "cell_type": "markdown",
   "metadata": {},
   "source": [
    "## Create Evolution Strategy Object"
   ]
  },
  {
   "cell_type": "code",
   "execution_count": 17,
   "metadata": {},
   "outputs": [
    {
     "name": "stdout",
     "output_type": "stream",
     "text": [
      "(15_w,31)-aCMA-ES (mu_w=8.9,w_1=20%) in dimension 9155 (seed=406734, Wed Oct 27 01:04:04 2021)\n"
     ]
    }
   ],
   "source": [
    "es = cma.CMAEvolutionStrategy(flatten(mean_params), sigma0=1)"
   ]
  },
  {
   "cell_type": "markdown",
   "metadata": {},
   "source": [
    "## Iterate through Mutated Policy Params"
   ]
  },
  {
   "cell_type": "code",
   "execution_count": 18,
   "metadata": {},
   "outputs": [
    {
     "name": "stdout",
     "output_type": "stream",
     "text": [
      "Iteration 0   Mean top 10% reward: -8.80\n",
      "Iteration 1   Mean top 10% reward: -9.17\n",
      "Iteration 2   Mean top 10% reward: -9.27\n",
      "Iteration 3   Mean top 10% reward: -9.27\n",
      "Iteration 4   Mean top 10% reward: -9.07\n",
      "Iteration 5   Mean top 10% reward: -8.93\n",
      "Iteration 6   Mean top 10% reward: -9.03\n",
      "Iteration 7   Mean top 10% reward: -8.87\n",
      "Iteration 8   Mean top 10% reward: -9.17\n",
      "Iteration 9   Mean top 10% reward: -9.13\n"
     ]
    }
   ],
   "source": [
    "for iteration in range(10):\n",
    "    # Create population of candidates and evaluate them\n",
    "    candidates, fitnesses = es.ask(), []\n",
    "    for candidate in candidates:\n",
    "        # Load new policy parameters to agent.\n",
    "        # print(candidate.shape)\n",
    "        model.policy.load_state_dict(to_dict(candidate, mean_params), strict=False)\n",
    "        # Evaluate the agent using stable-baselines predict function\n",
    "        fitness, _ = evaluate_policy(model, env)\n",
    "        fitnesses.append(fitness)\n",
    "    # CMA-ES update\n",
    "    es.tell(candidates, fitnesses)\n",
    "    # Display some training infos\n",
    "    mean_fitness = np.mean(sorted(fitnesses)[:int(0.1 * len(candidates))])\n",
    "    print(\"Iteration {:<3} Mean top 10% reward: {:.2f}\".format(iteration, -mean_fitness))"
   ]
  },
  {
   "cell_type": "markdown",
   "metadata": {},
   "source": [
    "## Re-learn the Model and Evaluate"
   ]
  },
  {
   "cell_type": "code",
   "execution_count": 19,
   "metadata": {},
   "outputs": [
    {
     "name": "stdout",
     "output_type": "stream",
     "text": [
      "64.9 71.4 88.1 85.7 95.3 92.7 75.1 72.0 64.2 73.9 \n",
      "Iterations 10  Mean top 10% reward: -9.00\n"
     ]
    }
   ],
   "source": [
    "model.learn(total_timesteps=10_000)\n",
    "\n",
    "fitnesses\n",
    "iterations = 10\n",
    "for i in range(iterations):\n",
    "    fitness, _ = evaluate_policy(model, env)\n",
    "    print(fitness, end=\" \")\n",
    "    fitnesses.append(fitness)\n",
    "\n",
    "mean_fitness = np.mean(sorted(fitnesses)[:int(0.1 * iterations)])\n",
    "print(\"\\nIterations {:<3} Mean top 10% reward: {:.2f}\".format(iterations, -mean_fitness))"
   ]
  },
  {
   "cell_type": "markdown",
   "metadata": {},
   "source": [
    "## Save The Model"
   ]
  },
  {
   "cell_type": "code",
   "execution_count": 20,
   "metadata": {},
   "outputs": [],
   "source": [
    "model.save(\"cmaes_lunar\")"
   ]
  },
  {
   "cell_type": "markdown",
   "metadata": {},
   "source": []
  },
  {
   "cell_type": "markdown",
   "metadata": {},
   "source": [
    "# Exporting Params as JSON"
   ]
  },
  {
   "cell_type": "markdown",
   "metadata": {},
   "source": [
    "## Function to Convert Params Dict to Flattened List"
   ]
  },
  {
   "cell_type": "code",
   "execution_count": 21,
   "metadata": {},
   "outputs": [],
   "source": [
    "def flatten_list(params):\n",
    "    \"\"\"\n",
    "    :param params: (dict)\n",
    "    :return: (np.ndarray)\n",
    "    \"\"\"\n",
    "    params_ = {}\n",
    "    for key in params.keys():\n",
    "        params_[key] = params[key].flatten().tolist()\n",
    "    return params_"
   ]
  },
  {
   "cell_type": "markdown",
   "metadata": {},
   "source": [
    "## Write Parameters to JSON File"
   ]
  },
  {
   "cell_type": "code",
   "execution_count": 22,
   "metadata": {},
   "outputs": [],
   "source": [
    "import json\n",
    "\n",
    "with open('data.json', 'w') as f:\n",
    "    json.dump(flatten_list(mean_params), f, indent='\\t')"
   ]
  }
 ],
 "metadata": {
  "interpreter": {
   "hash": "3fe87c7677a9be80aab770929aa8f3d40850ac08a0f73ec246342c77c48f1c11"
  },
  "kernelspec": {
   "display_name": "Python 3.7.2 64-bit ('pydrl': conda)",
   "name": "python3"
  },
  "language_info": {
   "codemirror_mode": {
    "name": "ipython",
    "version": 3
   },
   "file_extension": ".py",
   "mimetype": "text/x-python",
   "name": "python",
   "nbconvert_exporter": "python",
   "pygments_lexer": "ipython3",
   "version": "3.7.2"
  },
  "orig_nbformat": 4
 },
 "nbformat": 4,
 "nbformat_minor": 2
}
