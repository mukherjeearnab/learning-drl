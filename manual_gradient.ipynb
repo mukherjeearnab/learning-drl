{
 "cells": [
  {
   "cell_type": "code",
   "execution_count": 1,
   "metadata": {},
   "outputs": [
    {
     "name": "stderr",
     "output_type": "stream",
     "text": [
      "/home/arnab/.miniconda3/envs/pydrl/lib/python3.7/site-packages/ale_py/roms/utils.py:90: DeprecationWarning: SelectableGroups dict interface is deprecated. Use select.\n",
      "  for external in metadata.entry_points().get(self.group, []):\n"
     ]
    }
   ],
   "source": [
    "from typing import Dict\n",
    "import threading\n",
    "\n",
    "import gym\n",
    "import numpy as np\n",
    "import torch\n",
    "\n",
    "from stable_baselines3 import PPO as ALGO\n",
    "from stable_baselines3.common.evaluation import evaluate_policy\n"
   ]
  },
  {
   "cell_type": "code",
   "execution_count": 2,
   "metadata": {},
   "outputs": [],
   "source": [
    "# Hyper-Parameters\n",
    "NUM_CLIENT_MODELS = 8\n",
    "NUM_TRAINING_STEPS = 1\n",
    "NUM_ITERATIONS = 1000000\n",
    "UPDATE_FREQ = 10000\n",
    "ENV_NAME = 'CartPole-v1'\n"
   ]
  },
  {
   "cell_type": "code",
   "execution_count": 3,
   "metadata": {},
   "outputs": [
    {
     "name": "stderr",
     "output_type": "stream",
     "text": [
      "/home/arnab/.miniconda3/envs/pydrl/lib/python3.7/site-packages/stable_baselines3/ppo/ppo.py:138: UserWarning: You have specified a mini-batch size of 64, but because the `RolloutBuffer` is of size `n_steps * n_envs = 2`, after every 0 untruncated mini-batches, there will be a truncated mini-batch of size 2\n",
      "We recommend using a `batch_size` that is a factor of `n_steps * n_envs`.\n",
      "Info: (n_steps=2 and n_envs=1)\n",
      "  f\"You have specified a mini-batch size of {batch_size},\"\n"
     ]
    }
   ],
   "source": [
    "global_model = ALGO.load('initial_d')\n",
    "\n",
    "client_model_1 = ALGO(\n",
    "    \"MlpPolicy\",\n",
    "    gym.make(ENV_NAME),\n",
    "    n_epochs=1,\n",
    "    n_steps= 2\n",
    ")\n",
    "\n",
    "client_model_2 = ALGO(\n",
    "    \"MlpPolicy\",\n",
    "    gym.make(ENV_NAME),\n",
    "    n_epochs=1,\n",
    "    n_steps= 2\n",
    ")\n"
   ]
  },
  {
   "cell_type": "code",
   "execution_count": 4,
   "metadata": {},
   "outputs": [],
   "source": [
    "def _eval(model, env, index, fitnesses):\n",
    "    fitness, _ = evaluate_policy(model, env)\n",
    "    fitnesses[index] = fitness\n",
    "\n",
    "\n",
    "def evaluate(models, env, index, eval_results, message='', verbose=0):\n",
    "    # print('Starting Eval')\n",
    "    iterations = 10\n",
    "    fitnesses = [0 for i in range(iterations)]\n",
    "    eval_threads = []\n",
    "    for i in range(iterations):\n",
    "        thread = threading.Thread(target=_eval, args=(\n",
    "            models[index], gym.make(ENV_NAME), i, fitnesses))\n",
    "        eval_threads.append(thread)\n",
    "\n",
    "    # Start Threads\n",
    "    for thread in eval_threads:\n",
    "        thread.start()\n",
    "\n",
    "    # Join Threads (wait until thread is completely executed)\n",
    "    for thread in eval_threads:\n",
    "        thread.join()\n",
    "\n",
    "    mean_fitness = np.mean(sorted(fitnesses))\n",
    "    eval_results[index] = mean_fitness\n",
    "    print(f'Type {message} Mean reward: {mean_fitness}')\n"
   ]
  },
  {
   "cell_type": "code",
   "execution_count": 5,
   "metadata": {},
   "outputs": [],
   "source": [
    "def train(models, index, timesteps):\n",
    "    # print('Starting Training')\n",
    "    models[index] = models[index].learn(\n",
    "        reset_num_timesteps=True, total_timesteps=timesteps)\n",
    "    # print('Completed Training')\n"
   ]
  },
  {
   "cell_type": "code",
   "execution_count": 6,
   "metadata": {},
   "outputs": [
    {
     "name": "stderr",
     "output_type": "stream",
     "text": [
      "/home/arnab/.miniconda3/envs/pydrl/lib/python3.7/site-packages/stable_baselines3/common/evaluation.py:69: UserWarning: Evaluation environment is not wrapped with a ``Monitor`` wrapper. This may result in reporting modified episode lengths and rewards, if other wrappers happen to modify these. Consider wrapping environment first with ``Monitor`` wrapper.\n",
      "  UserWarning,\n"
     ]
    },
    {
     "name": "stdout",
     "output_type": "stream",
     "text": [
      "Type  Mean reward: 9.64\n",
      "Type  Mean reward: 9.35\n",
      "Type  Mean reward: 9.35\n"
     ]
    }
   ],
   "source": [
    "client_model_1.set_parameters(global_model.get_parameters())\n",
    "client_model_2.set_parameters(global_model.get_parameters())\n",
    "\n",
    "# global_model.save('initial_d')\n",
    "\n",
    "evaluate([global_model], gym.make(ENV_NAME), 0, [0])\n",
    "evaluate([client_model_1], gym.make(ENV_NAME), 0, [0])\n",
    "evaluate([client_model_2], gym.make(ENV_NAME), 0, [0])"
   ]
  },
  {
   "cell_type": "code",
   "execution_count": 7,
   "metadata": {},
   "outputs": [
    {
     "name": "stderr",
     "output_type": "stream",
     "text": [
      "/home/arnab/.miniconda3/envs/pydrl/lib/python3.7/site-packages/ipykernel_launcher.py:9: UserWarning: This overload of add_ is deprecated:\n",
      "\tadd_(Number alpha, Tensor other)\n",
      "Consider using one of the following signatures instead:\n",
      "\tadd_(Tensor other, *, Number alpha) (Triggered internally at  ../torch/csrc/utils/python_arg_parser.cpp:1025.)\n",
      "  if __name__ == '__main__':\n"
     ]
    },
    {
     "name": "stdout",
     "output_type": "stream",
     "text": [
      "Type  Mean reward: 29.589999999999996\n",
      "-------\n",
      "Type  Mean reward: 82.28999999999999\n",
      "-------\n",
      "Type  Mean reward: 85.37\n",
      "-------\n",
      "Type  Mean reward: 84.17\n",
      "-------\n",
      "Type  Mean reward: 94.20000000000002\n",
      "-------\n",
      "Type  Mean reward: 89.89000000000001\n",
      "-------\n",
      "Type  Mean reward: 90.83000000000001\n",
      "-------\n",
      "Type  Mean reward: 94.08\n",
      "-------\n",
      "Type  Mean reward: 89.73\n",
      "-------\n",
      "Type  Mean reward: 88.85\n",
      "-------\n",
      "Type  Mean reward: 87.5\n",
      "-------\n",
      "Type  Mean reward: 92.54999999999998\n",
      "-------\n",
      "Type  Mean reward: 88.8\n",
      "-------\n",
      "Type  Mean reward: 91.58\n",
      "-------\n",
      "Type  Mean reward: 90.80000000000001\n",
      "-------\n"
     ]
    }
   ],
   "source": [
    "for i in range(NUM_ITERATIONS):\n",
    "    client_model_1.learn(reset_num_timesteps=True, total_timesteps=NUM_TRAINING_STEPS)\n",
    "    client_model_2.learn(reset_num_timesteps=True, total_timesteps=NUM_TRAINING_STEPS)\n",
    "    \n",
    "    global_dict = global_model.policy.state_dict()\n",
    "    # print(global_dict[])\n",
    "    for param in client_model_1.policy.named_parameters():\n",
    "        temp_tensor = torch.zeros(param[1].size())\n",
    "        global_dict[param[0]].add_(temp_tensor.add_(-0.003, param[1].grad))\n",
    "    \n",
    "    for param in client_model_2.policy.named_parameters():\n",
    "        temp_tensor = torch.zeros(param[1].size())\n",
    "        global_dict[param[0]].add_(temp_tensor.add_(-0.003, param[1].grad))\n",
    "    \n",
    "\n",
    "    global_model.policy.load_state_dict(global_dict)\n",
    "    client_model_1.policy.load_state_dict(global_dict)\n",
    "    client_model_2.policy.load_state_dict(global_dict)\n",
    "\n",
    "    if ((i+1) % UPDATE_FREQ) == 0:\n",
    "        evaluate([global_model], gym.make(ENV_NAME), 0, [0])\n",
    "        # evaluate([client_model_1], gym.make(ENV_NAME), 0, [0])\n",
    "        # evaluate([client_model_2], gym.make(ENV_NAME), 0, [0])\n",
    "        print('-------')\n",
    "    # break\n"
   ]
  }
 ],
 "metadata": {
  "interpreter": {
   "hash": "3fe87c7677a9be80aab770929aa8f3d40850ac08a0f73ec246342c77c48f1c11"
  },
  "kernelspec": {
   "display_name": "Python 3.7.2 64-bit ('pydrl': conda)",
   "language": "python",
   "name": "python3"
  },
  "language_info": {
   "codemirror_mode": {
    "name": "ipython",
    "version": 3
   },
   "file_extension": ".py",
   "mimetype": "text/x-python",
   "name": "python",
   "nbconvert_exporter": "python",
   "pygments_lexer": "ipython3",
   "version": "3.7.2"
  },
  "orig_nbformat": 4
 },
 "nbformat": 4,
 "nbformat_minor": 2
}
