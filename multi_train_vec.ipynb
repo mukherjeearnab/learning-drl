{
 "cells": [
  {
   "cell_type": "code",
   "execution_count": 1,
   "metadata": {},
   "outputs": [],
   "source": [
    "import gym\n",
    "import numpy as np\n",
    "import torch as th\n",
    "\n",
    "from stable_baselines3 import A2C as ALGO\n",
    "from stable_baselines3.common.evaluation import evaluate_policy\n",
    "from stable_baselines3.common.env_util import make_vec_env"
   ]
  },
  {
   "cell_type": "code",
   "execution_count": 2,
   "metadata": {},
   "outputs": [],
   "source": [
    "env = make_vec_env(\"LunarLander-v2\", n_envs=4)\n",
    "\n",
    "model = ALGO(\"MlpPolicy\", env)"
   ]
  },
  {
   "cell_type": "code",
   "execution_count": 3,
   "metadata": {},
   "outputs": [],
   "source": [
    "def evaluate(model, env, message = '', verbose = 0):\n",
    "    fitnesses = []\n",
    "    iterations = 10\n",
    "    for i in range(iterations):\n",
    "        fitness, _ = evaluate_policy(model, env)\n",
    "        if verbose == 1:\n",
    "            print(i, fitness, end=\" \")\n",
    "        fitnesses.append(fitness)\n",
    "\n",
    "    mean_fitness = np.mean(sorted(fitnesses))\n",
    "    print(f'Type {message} Mean reward: {mean_fitness}')\n",
    "    return mean_fitness"
   ]
  },
  {
   "cell_type": "code",
   "execution_count": 4,
   "metadata": {},
   "outputs": [
    {
     "name": "stdout",
     "output_type": "stream",
     "text": [
      "Train Iter:  0\n",
      "0 -4117.226584099999 1 -4283.858195700001 2 -4240.2552548 3 -3710.4929604 4 -4346.0585857 5 -4230.4947559 6 -4124.7666957 7 -3842.8394132000003 8 -4162.8251006 9 -3952.3227629000003 Type Initial Model Mean reward: -4101.1140309\n",
      "Train Iter:  1\n",
      "0 -809.4678341000001 1 -843.4929935 2 -817.0406953 3 -822.3820531000001 4 -817.4074712999999 5 -954.3712075999999 6 -938.2350838 7 -917.7406267 8 -950.3904405 9 -869.4689628 Type Initial Model Mean reward: -873.99973687\n",
      "Train Iter:  2\n",
      "0 -361.3938038 1 -278.01693539999997 2 39.891035200000005 3 -182.8434498 4 -190.5989877 5 -199.23621400000002 6 -150.60252340000002 7 -176.3088339 8 -220.8032921 9 -109.65498410000001 Type Initial Model Mean reward: -182.95679890000002\n",
      "Train Iter:  3\n",
      "0 -52.4953658 1 -68.28856019999999 2 -19.305675500000003 3 -23.03039830000001 4 -87.2794239 5 -82.32711400000001 6 6.086364700000002 7 35.5143082 8 95.88155409999999 9 -87.2563535 Type Initial Model Mean reward: -28.250066419999996\n",
      "Train Iter:  4\n",
      "0 4.683768600000002 1 73.36199780000001 2 -14.9601279 3 20.088981100000005 4 -35.9445841 5 -66.1064525 6 -0.966142099999999 7 -76.55291629999999 8 -40.728942800000006 9 81.5916847 Type Initial Model Mean reward: -5.553273349999998\n",
      "Train Iter:  5\n",
      "0 96.46434630000002 1 32.4227696 2 157.15587800000003 3 33.8741135 4 7.360124699999998 5 78.7570934 6 107.7346043 7 21.096790199999997 8 30.282651000000005 9 -54.430266399999994 Type Initial Model Mean reward: 51.07181046000001\n",
      "Train Iter:  6\n",
      "0 125.18679870000001 1 34.53843249999999 2 84.46635090000001 3 103.4586941 4 161.4908671 5 131.364806 6 81.5973679 7 135.74874250000002 8 72.0157342 9 109.4779544 Type Initial Model Mean reward: 103.93457483\n",
      "Train Iter:  7\n",
      "0 157.8291226 1 91.84055890000002 2 147.78465649999998 3 9.000795700000001 4 82.9497941 5 90.2749497 6 25.475719399999996 7 20.713886599999995 8 50.856322199999994 9 -4.0035802999999985 Type Initial Model Mean reward: 67.27222254\n",
      "Train Iter:  8\n",
      "0 -14.109971300000002 1 36.271699299999995 2 30.206319099999995 3 -12.136281600000004 4 75.87344390000001 5 26.474308299999997 6 64.3883305 7 58.016457700000004 8 82.5735251 9 -8.135324399999995 Type Initial Model Mean reward: 33.94225066\n",
      "Train Iter:  9\n",
      "0 116.3516349 1 131.54953559999998 2 63.70102010000001 3 54.5732025 4 92.07397800000001 5 108.77847909999998 6 74.35909000000001 7 57.065109899999996 8 27.799901 9 12.033853500000001 Type Initial Model Mean reward: 73.82858046\n"
     ]
    }
   ],
   "source": [
    "for i in range(10):\n",
    "    print('Train Iter: ', i)\n",
    "\n",
    "    model.learn(total_timesteps=10_000)\n",
    "\n",
    "    evaluate(model, env, 'Initial Model', verbose=1)"
   ]
  },
  {
   "cell_type": "code",
   "execution_count": 5,
   "metadata": {},
   "outputs": [],
   "source": [
    "model.save('a2c_lunar_vec')"
   ]
  },
  {
   "cell_type": "code",
   "execution_count": 6,
   "metadata": {},
   "outputs": [],
   "source": [
    "del model\n",
    "model = ALGO.load(\"a2c_lunar_vec\", env)"
   ]
  },
  {
   "cell_type": "code",
   "execution_count": 7,
   "metadata": {},
   "outputs": [],
   "source": [
    "# Exporting Params as JSON\n",
    "## Function to Convert Params Dict to Flattened List\n",
    "def flatten_pol(params):\n",
    "    \"\"\"\n",
    "    :param params: (dict)\n",
    "    :return: (np.ndarray)\n",
    "    \"\"\"\n",
    "    params_ = {}\n",
    "    for key in params.keys():\n",
    "        params_[key] = params[key].tolist()\n",
    "    return params_\n",
    "\n",
    "def flatten_opt(params):\n",
    "    \"\"\"\n",
    "    :param params: (dict)\n",
    "    :return: (np.ndarray)\n",
    "    \"\"\"\n",
    "    for key in params.keys():\n",
    "        params[key]['square_avg'] = params[key]['square_avg'].tolist()\n",
    "    return params\n",
    "\n",
    "\n",
    "## Write Parameters to JSON File\n",
    "import json\n",
    "\n",
    "all_params = model.get_parameters()\n",
    "pol_params = flatten_pol(all_params['policy'])\n",
    "opt_params = flatten_opt(all_params['policy.optimizer']['state'])\n",
    "\n",
    "all_params['policy'] = pol_params\n",
    "all_params['policy.optimizer']['state'] = opt_params\n",
    "\n",
    "with open('a2c_lunar_vec.json', 'w') as f:\n",
    "    json.dump(all_params, f, indent='\\t')"
   ]
  },
  {
   "cell_type": "code",
   "execution_count": 8,
   "metadata": {},
   "outputs": [],
   "source": [
    "with open('a2c_lunar_vec.json', 'r') as f:\n",
    "    new_params = json.load(f)\n",
    "model_loaded = ALGO(\n",
    "    \"MlpPolicy\",\n",
    "    env\n",
    ")\n",
    "\n",
    "loaded_pol_params = new_params['policy']\n",
    "loaded_opt_params = new_params['policy.optimizer']['state']\n",
    "\n",
    "for key in loaded_pol_params.keys():\n",
    "    loaded_pol_params[key] = th.tensor(loaded_pol_params[key])\n",
    "\n",
    "for key in loaded_opt_params.keys():\n",
    "        loaded_opt_params[key]['square_avg'] = th.tensor(loaded_opt_params[key]['square_avg'])\n",
    "\n",
    "new_params['policy'] = loaded_pol_params\n",
    "new_params['policy.optimizer']['state'] = loaded_opt_params\n",
    "\n",
    "model_loaded.set_parameters(new_params)"
   ]
  },
  {
   "cell_type": "code",
   "execution_count": 9,
   "metadata": {},
   "outputs": [
    {
     "name": "stderr",
     "output_type": "stream",
     "text": [
      "/home/arnab/.miniconda3/envs/pydrl/lib/python3.7/site-packages/stable_baselines3/common/evaluation.py:69: UserWarning: Evaluation environment is not wrapped with a ``Monitor`` wrapper. This may result in reporting modified episode lengths and rewards, if other wrappers happen to modify these. Consider wrapping environment first with ``Monitor`` wrapper.\n",
      "  UserWarning,\n"
     ]
    },
    {
     "name": "stdout",
     "output_type": "stream",
     "text": [
      "0 83.0815350393769 1 100.58356478604655 2 41.75563291757671 3 28.62173695012158 4 96.94347761442336 5 81.22091310120939 6 79.46620474235505 7 117.29206659107975 8 40.76013276213398 9 44.08097024690831 Type  Mean reward: 71.38062347512316\n"
     ]
    },
    {
     "data": {
      "text/plain": [
       "71.38062347512316"
      ]
     },
     "execution_count": 9,
     "metadata": {},
     "output_type": "execute_result"
    }
   ],
   "source": [
    "env = gym.make('LunarLander-v2')\n",
    "evaluate(model_loaded,env, verbose=1)"
   ]
  }
 ],
 "metadata": {
  "interpreter": {
   "hash": "3fe87c7677a9be80aab770929aa8f3d40850ac08a0f73ec246342c77c48f1c11"
  },
  "kernelspec": {
   "display_name": "Python 3.7.2 64-bit ('pydrl': conda)",
   "name": "python3"
  },
  "language_info": {
   "codemirror_mode": {
    "name": "ipython",
    "version": 3
   },
   "file_extension": ".py",
   "mimetype": "text/x-python",
   "name": "python",
   "nbconvert_exporter": "python",
   "pygments_lexer": "ipython3",
   "version": "3.7.2"
  },
  "orig_nbformat": 4
 },
 "nbformat": 4,
 "nbformat_minor": 2
}
