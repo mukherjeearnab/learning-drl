{
 "cells": [
  {
   "cell_type": "markdown",
   "metadata": {},
   "source": [
    "# Multi Train Gradient Update"
   ]
  },
  {
   "cell_type": "markdown",
   "metadata": {},
   "source": [
    "## Importing Libraries"
   ]
  },
  {
   "cell_type": "code",
   "execution_count": 1,
   "metadata": {},
   "outputs": [
    {
     "name": "stderr",
     "output_type": "stream",
     "text": [
      "/home/arnab/.miniconda3/envs/pydrl/lib/python3.7/site-packages/ale_py/roms/utils.py:90: DeprecationWarning: SelectableGroups dict interface is deprecated. Use select.\n",
      "  for external in metadata.entry_points().get(self.group, []):\n"
     ]
    }
   ],
   "source": [
    "from typing import Dict\n",
    "import threading\n",
    "\n",
    "import gym\n",
    "import numpy as np\n",
    "import torch\n",
    "\n",
    "from stable_baselines3 import PPO as ALGO\n",
    "from stable_baselines3.common.evaluation import evaluate_policy"
   ]
  },
  {
   "cell_type": "code",
   "execution_count": 2,
   "metadata": {},
   "outputs": [],
   "source": [
    "# Hyper-Parameters\n",
    "NUM_CLIENT_MODELS = 8\n",
    "NUM_TRAINING_STEPS = 1000\n",
    "NUM_ITERATIONS = 10\n",
    "ENV_NAME = 'CartPole-v1'\n"
   ]
  },
  {
   "cell_type": "markdown",
   "metadata": {},
   "source": [
    "## Init. ENV and Model"
   ]
  },
  {
   "cell_type": "code",
   "execution_count": 3,
   "metadata": {},
   "outputs": [],
   "source": [
    "env = gym.make(ENV_NAME)\n",
    "global_model = ALGO(\n",
    "    \"MlpPolicy\",\n",
    "    env\n",
    ")\n",
    "\n",
    "client_models = [ALGO(\"MlpPolicy\", gym.make(ENV_NAME)) for i in range(NUM_CLIENT_MODELS)]"
   ]
  },
  {
   "cell_type": "markdown",
   "metadata": {},
   "source": [
    "## Functions to Evaluate Model and Train Model within Thread"
   ]
  },
  {
   "cell_type": "code",
   "execution_count": 4,
   "metadata": {},
   "outputs": [],
   "source": [
    "def evaluate(models, env, index, eval_results, message = '', verbose = 0):\n",
    "    # print('Starting Eval')\n",
    "    fitnesses = []\n",
    "    iterations = 10\n",
    "    for i in range(iterations):\n",
    "        fitness, _ = evaluate_policy(models[index], env)\n",
    "        if verbose == 1:\n",
    "            print(i, fitness, end=\" \")\n",
    "        fitnesses.append(fitness)\n",
    "\n",
    "    mean_fitness = np.mean(sorted(fitnesses))\n",
    "    eval_results[index] = mean_fitness\n",
    "    print(f'Type {message} Mean reward: {mean_fitness}')"
   ]
  },
  {
   "cell_type": "code",
   "execution_count": 5,
   "metadata": {},
   "outputs": [],
   "source": [
    "def train(models, index, timesteps):\n",
    "    # print('Starting Training')\n",
    "    models[index] = models[index].learn(reset_num_timesteps=False, total_timesteps=timesteps)\n",
    "    # print('Completed Training')\n"
   ]
  },
  {
   "cell_type": "code",
   "execution_count": 6,
   "metadata": {},
   "outputs": [],
   "source": [
    "def multithread_eval(client_models):\n",
    "    # Create Threads\n",
    "    client_threads = []\n",
    "    eval_results = [0 for i in range(len(client_models))] \n",
    "    for ci in range(NUM_CLIENT_MODELS):\n",
    "        thread = threading.Thread(target=evaluate, args=(client_models, gym.make(ENV_NAME), ci, eval_results, f'Trained Model {ci}'))\n",
    "        client_threads.append(thread)\n",
    "\n",
    "    # Start Threads\n",
    "    for thread in client_threads:\n",
    "        thread.start()\n",
    "\n",
    "    # Join Threads (wait until thread is completely executed)\n",
    "    for thread in client_threads:\n",
    "        thread.join()\n",
    "\n",
    "    return eval_results\n"
   ]
  },
  {
   "cell_type": "markdown",
   "metadata": {},
   "source": [
    "## Initial Evaluation"
   ]
  },
  {
   "cell_type": "code",
   "execution_count": 7,
   "metadata": {},
   "outputs": [
    {
     "name": "stderr",
     "output_type": "stream",
     "text": [
      "/home/arnab/.miniconda3/envs/pydrl/lib/python3.7/site-packages/stable_baselines3/common/evaluation.py:69: UserWarning: Evaluation environment is not wrapped with a ``Monitor`` wrapper. This may result in reporting modified episode lengths and rewards, if other wrappers happen to modify these. Consider wrapping environment first with ``Monitor`` wrapper.\n",
      "  UserWarning,\n"
     ]
    },
    {
     "name": "stdout",
     "output_type": "stream",
     "text": [
      "Type  Mean reward: 9.56\n",
      "Type Trained Model 7 Mean reward: 9.56\n",
      "Type Trained Model 0 Mean reward: 9.55\n",
      "Type Trained Model 4 Mean reward: 9.500000000000002\n",
      "Type Trained Model 2 Mean reward: 9.520000000000001\n",
      "Type Trained Model 6 Mean reward: 9.620000000000001\n",
      "Type Trained Model 3 Mean reward: 9.56\n",
      "Type Trained Model 1 Mean reward: 9.55\n",
      "Type Trained Model 5 Mean reward: 9.549999999999999\n"
     ]
    },
    {
     "data": {
      "text/plain": [
       "[9.55,\n",
       " 9.55,\n",
       " 9.520000000000001,\n",
       " 9.56,\n",
       " 9.500000000000002,\n",
       " 9.549999999999999,\n",
       " 9.620000000000001,\n",
       " 9.56]"
      ]
     },
     "execution_count": 7,
     "metadata": {},
     "output_type": "execute_result"
    }
   ],
   "source": [
    "for model in client_models:\n",
    "    model.set_parameters(global_model.get_parameters())\n",
    "\n",
    "global_model.save('initial')\n",
    "\n",
    "evaluate([global_model], env, 0, [0])\n",
    "\n",
    "multithread_eval(client_models)"
   ]
  },
  {
   "cell_type": "markdown",
   "metadata": {},
   "source": [
    "# Train and Evaluate"
   ]
  },
  {
   "cell_type": "code",
   "execution_count": 8,
   "metadata": {},
   "outputs": [
    {
     "name": "stdout",
     "output_type": "stream",
     "text": [
      "Type Global Initial Model Mean reward: 9.73\n",
      "Train Iter:  0\n",
      "Optim Steps:  320\n",
      "Type Trained Model 2 Mean reward: 97.46\n",
      "Type Trained Model 3 Mean reward: 114.1\n",
      "Type Trained Model 4 Mean reward: 165.3\n",
      "Type Trained Model 1 Mean reward: 171.14000000000001\n",
      "Type Trained Model 6 Mean reward: 279.01\n",
      "Type Trained Model 5 Mean reward: 294.56\n",
      "Type Trained Model 7 Mean reward: 303.54\n",
      "Type Trained Model 0 Mean reward: 313.15999999999997\n",
      "Type Global Updated Model Mean reward: 319.67\n",
      "Train Iter:  1\n",
      "Optim Steps:  640\n",
      "Type Trained Model 4 Mean reward: 168.42\n",
      "Type Trained Model 2 Mean reward: 262.83\n",
      "Type Trained Model 7 Mean reward: 280.82000000000005\n",
      "Type Trained Model 1 Mean reward: 302.33\n",
      "Type Trained Model 6 Mean reward: 325.00999999999993\n",
      "Type Trained Model 5 Mean reward: 335.72\n",
      "Type Trained Model 3 Mean reward: 348.3\n",
      "Type Trained Model 0 Mean reward: 353.59\n",
      "Type Global Updated Model Mean reward: 345.53999999999996\n",
      "Train Iter:  2\n",
      "Optim Steps:  960\n",
      "Type Trained Model 5 Mean reward: 278.76000000000005\n",
      "Type Trained Model 7 Mean reward: 295.65\n",
      "Type Trained Model 1 Mean reward: 343.46\n",
      "Type Trained Model 4 Mean reward: 345.64\n",
      "Type Trained Model 6 Mean reward: 361.46999999999997\n",
      "Type Trained Model 2 Mean reward: 366.65000000000003\n",
      "Type Trained Model 3 Mean reward: 370.76\n",
      "Type Trained Model 0 Mean reward: 377.99\n",
      "Type Global Updated Model Mean reward: 351.02\n",
      "Train Iter:  3\n",
      "Optim Steps:  1280\n",
      "Type Trained Model 7 Mean reward: 313.38\n",
      "Type Trained Model 0 Mean reward: 365.17\n",
      "Type Trained Model 4 Mean reward: 373.28999999999996\n",
      "Type Trained Model 3 Mean reward: 382.46999999999997\n",
      "Type Trained Model 2 Mean reward: 383.08000000000004\n",
      "Type Trained Model 6 Mean reward: 395.39000000000004\n",
      "Type Trained Model 1 Mean reward: 395.15\n",
      "Type Trained Model 5 Mean reward: 394.87\n",
      "Type Global Updated Model Mean reward: 396.16\n",
      "Train Iter:  4\n",
      "Optim Steps:  1600\n",
      "Type Trained Model 2 Mean reward: 338.81\n",
      "Type Trained Model 3 Mean reward: 404.6\n",
      "Type Trained Model 0 Mean reward: 410.51000000000005\n",
      "Type Trained Model 6 Mean reward: 414.5200000000001\n",
      "Type Trained Model 1 Mean reward: 423.59000000000003\n",
      "Type Trained Model 4 Mean reward: 428.2\n",
      "Type Trained Model 7 Mean reward: 438.2000000000001\n",
      "Type Trained Model 5 Mean reward: 439.35\n",
      "Type Global Updated Model Mean reward: 446.98999999999995\n",
      "Train Iter:  5\n",
      "Optim Steps:  1920\n",
      "Type Trained Model 4 Mean reward: 391.25\n",
      "Type Trained Model 7 Mean reward: 424.2\n",
      "Type Trained Model 1 Mean reward: 448.3\n",
      "Type Trained Model 5 Mean reward: 450.33000000000004\n",
      "Type Trained Model 0 Mean reward: 456.44000000000005\n",
      "Type Trained Model 3 Mean reward: 473.01000000000005\n",
      "Type Trained Model 6 Mean reward: 472.66\n",
      "Type Trained Model 2 Mean reward: 478.96000000000004\n",
      "Type Global Updated Model Mean reward: 462.82000000000005\n",
      "Train Iter:  6\n",
      "Optim Steps:  2240\n",
      "Type Trained Model 4 Mean reward: 485.7099999999999\n",
      "Type Trained Model 7 Mean reward: 488.21000000000004\n",
      "Type Trained Model 1 Mean reward: 491.36\n",
      "Type Trained Model 6 Mean reward: 493.9\n",
      "Type Trained Model 5 Mean reward: 494.96000000000004\n",
      "Type Trained Model 3 Mean reward: 498.56000000000006\n",
      "Type Trained Model 2 Mean reward: 499.02\n",
      "Type Trained Model 0 Mean reward: 499.86\n",
      "Type Global Updated Model Mean reward: 495.43999999999994\n",
      "Train Iter:  7\n",
      "Optim Steps:  2560\n",
      "Type Trained Model 0 Mean reward: 500.0\n",
      "Type Trained Model 5 Mean reward: 499.73999999999995\n",
      "Type Trained Model 6 Mean reward: 499.68999999999994\n",
      "Type Trained Model 1 Mean reward: 500.0\n",
      "Type Trained Model 3 Mean reward: 500.0\n",
      "Type Trained Model 7 Mean reward: 498.88\n",
      "Type Trained Model 4 Mean reward: 499.51000000000005\n",
      "Type Trained Model 2 Mean reward: 500.0\n",
      "Type Global Updated Model Mean reward: 500.0\n",
      "Train Iter:  8\n",
      "Optim Steps:  2880\n"
     ]
    }
   ],
   "source": [
    "# Evaluation Before Iterated Training\n",
    "evaluate([global_model], env, 0, [0], \"Global Initial Model\")\n",
    "\n",
    "for i in range(NUM_ITERATIONS):\n",
    "    print('Train Iter: ', i)\n",
    "\n",
    "    # Create Threads\n",
    "    client_threads = [] \n",
    "    for ci in range(NUM_CLIENT_MODELS):\n",
    "        thread = threading.Thread(target=train, args=(client_models, ci, NUM_TRAINING_STEPS))\n",
    "        client_threads.append(thread)\n",
    "\n",
    "\n",
    "    # Start Threads\n",
    "    for thread in client_threads:\n",
    "        thread.start()\n",
    "\n",
    "    # Join Threads (wait until thread is completely executed)\n",
    "    for thread in client_threads:\n",
    "        thread.join()\n",
    "\n",
    "    # Optimization Steps Check\n",
    "    print('Optim Steps: ', client_models[0].get_parameters()['policy.optimizer']['state'][0]['step'])\n",
    "\n",
    "    # Evaluation after Training\n",
    "    results = multithread_eval(client_models)\n",
    "    total = sum(results)\n",
    "\n",
    "    # Accumulate Client Parameters / Weights\n",
    "    global_dict = global_model.policy.state_dict()\n",
    "    for k in global_dict.keys():\n",
    "        global_dict[k] = torch.stack([client_models[i].policy.state_dict()[k].float()*(NUM_CLIENT_MODELS*results[i]/total) for i in range(len(client_models))], 0).mean(0)\n",
    "\n",
    "    # Load New Parameters to Global Model\n",
    "    global_model.policy.load_state_dict(global_dict)\n",
    "\n",
    "    # Load New Parameters to clients\n",
    "    for model in client_models:\n",
    "        model.policy.load_state_dict(global_model.policy.state_dict())\n",
    "\n",
    "    # Evaluate Updated Global Model\n",
    "    evaluate([global_model], env, 0, [0], 'Global Updated Model', verbose = 0)\n"
   ]
  },
  {
   "cell_type": "code",
   "execution_count": null,
   "metadata": {},
   "outputs": [],
   "source": [
    "global_model.get_parameters()"
   ]
  },
  {
   "cell_type": "code",
   "execution_count": null,
   "metadata": {},
   "outputs": [],
   "source": [
    "global_model.save('a2c_lunar_multiproc')"
   ]
  },
  {
   "cell_type": "code",
   "execution_count": null,
   "metadata": {},
   "outputs": [],
   "source": [
    "# Exporting Params as JSON\n",
    "## Function to Convert Params Dict to Flattened List\n",
    "def flatten_list(params):\n",
    "    \"\"\"\n",
    "    :param params: (dict)\n",
    "    :return: (np.ndarray)\n",
    "    \"\"\"\n",
    "    params_ = {}\n",
    "    for key in params.keys():\n",
    "        params_[key] = params[key].tolist()\n",
    "    return params_\n",
    "## Write Parameters to JSON File\n",
    "import json\n",
    "\n",
    "all_params = global_model.get_parameters()\n",
    "pol_params = flatten_list(all_params['policy'])\n",
    "\n",
    "all_params['policy'] = pol_params\n",
    "\n",
    "with open('a2c_lunar_multiproc.json', 'w') as f:\n",
    "    json.dump(all_params, f, indent='\\t')"
   ]
  },
  {
   "cell_type": "code",
   "execution_count": null,
   "metadata": {},
   "outputs": [],
   "source": [
    "# model_loaded = ALGO(\n",
    "#     \"MlpPolicy\",\n",
    "#     env\n",
    "# )\n",
    "\n",
    "# evaluate(model_loaded,env, verbose=1)\n",
    "\n",
    "# import json\n",
    "# with open('a2c_lunar_multiproc.json', 'w') as f:\n",
    "#     new_params = json.load(f)\n",
    "\n",
    "# loaded_pol_params = new_params['policy']\n",
    "# for key in loaded_pol_params.keys():\n",
    "#     loaded_pol_params[key] = th.tensor(loaded_pol_params[key])\n",
    "\n",
    "# new_params['policy'] = loaded_pol_params\n",
    "\n",
    "# model_loaded.set_parameters(new_params)\n",
    "\n",
    "model_loaded = ALGO.load('a2c_lunar_multiproc', env)"
   ]
  },
  {
   "cell_type": "code",
   "execution_count": null,
   "metadata": {},
   "outputs": [],
   "source": [
    "env.reset()\n",
    "evaluate(model_loaded,env, verbose=1)"
   ]
  }
 ],
 "metadata": {
  "interpreter": {
   "hash": "3fe87c7677a9be80aab770929aa8f3d40850ac08a0f73ec246342c77c48f1c11"
  },
  "kernelspec": {
   "display_name": "Python 3.7.2 64-bit ('pydrl': conda)",
   "name": "python3"
  },
  "language_info": {
   "codemirror_mode": {
    "name": "ipython",
    "version": 3
   },
   "file_extension": ".py",
   "mimetype": "text/x-python",
   "name": "python",
   "nbconvert_exporter": "python",
   "pygments_lexer": "ipython3",
   "version": "3.7.2"
  },
  "orig_nbformat": 4
 },
 "nbformat": 4,
 "nbformat_minor": 2
}
