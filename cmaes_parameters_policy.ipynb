{
 "cells": [
  {
   "cell_type": "markdown",
   "metadata": {},
   "source": [
    "# Modifying and Loading Parameters of Policies"
   ]
  },
  {
   "cell_type": "markdown",
   "metadata": {},
   "source": [
    "## Importing Libraries"
   ]
  },
  {
   "cell_type": "code",
   "execution_count": 1,
   "metadata": {},
   "outputs": [],
   "source": [
    "from typing import Dict\n",
    "\n",
    "import gym\n",
    "import numpy as np\n",
    "import cma\n",
    "from collections import OrderedDict\n",
    "import torch as th\n",
    "\n",
    "from stable_baselines3 import A2C\n",
    "from stable_baselines3.common.evaluation import evaluate_policy"
   ]
  },
  {
   "cell_type": "markdown",
   "metadata": {},
   "source": [
    "## Function to Convert Params Dict to Flattened N-D array"
   ]
  },
  {
   "cell_type": "code",
   "execution_count": 2,
   "metadata": {},
   "outputs": [],
   "source": [
    "def flatten(params):\n",
    "    \"\"\"\n",
    "    :param params: (dict)\n",
    "    :return: (np.ndarray)\n",
    "    \"\"\"\n",
    "    params_ = []\n",
    "    for key in params.keys():\n",
    "        params_.append(params[key].flatten())\n",
    "    return np.concatenate(params_)"
   ]
  },
  {
   "cell_type": "markdown",
   "metadata": {},
   "source": [
    "## Convert to Flattened Params to Dictionary"
   ]
  },
  {
   "cell_type": "code",
   "execution_count": 3,
   "metadata": {},
   "outputs": [],
   "source": [
    "def to_dict(flat_vec, params):\n",
    "    \"\"\"\n",
    "    :param flat_vec: (np.ndarray)\n",
    "    :param params: (OrderedDict)\n",
    "    :return: (OrderedDict)\n",
    "    \"\"\"\n",
    "    params_ = OrderedDict()\n",
    "    start_idx = 0\n",
    "    for key in params.keys():\n",
    "        n_elem = list(params[key].size())\n",
    "        # print(n_elem, params[key].nelement())\n",
    "        params_[key] = th.from_numpy(flat_vec[start_idx:start_idx + params[key].nelement()].reshape(params[key].shape))\n",
    "        start_idx += params[key].nelement()\n",
    "    return params_"
   ]
  },
  {
   "cell_type": "markdown",
   "metadata": {},
   "source": [
    "## Create Model and Find Initial Parameters"
   ]
  },
  {
   "cell_type": "code",
   "execution_count": 4,
   "metadata": {},
   "outputs": [
    {
     "name": "stderr",
     "output_type": "stream",
     "text": [
      "/home/arnab/.miniconda3/envs/pydrl/lib/python3.7/site-packages/stable_baselines3/common/evaluation.py:69: UserWarning: Evaluation environment is not wrapped with a ``Monitor`` wrapper. This may result in reporting modified episode lengths and rewards, if other wrappers happen to modify these. Consider wrapping environment first with ``Monitor`` wrapper.\n",
      "  UserWarning,\n"
     ]
    },
    {
     "name": "stdout",
     "output_type": "stream",
     "text": [
      "-450.35259926389006 -397.8973459230212 -347.656095596691 -297.56590001436416 -478.7106381719117 -468.4744760384259 -426.8542408260473 -345.32462144556047 -419.89931562927376 -432.9895065597972 \n",
      "Iterations 10  Mean top 10% reward: 478.71\n"
     ]
    }
   ],
   "source": [
    "env = gym.make('LunarLander-v2')\n",
    "model = A2C(\n",
    "    \"MlpPolicy\",\n",
    "    env\n",
    ")\n",
    "\n",
    "# Use traditional actor-critic policy gradient updates to\n",
    "# find good initial parameters\n",
    "model.learn(total_timesteps=10_000)\n",
    "\n",
    "fitnesses = []\n",
    "iterations = 10\n",
    "for i in range(iterations):\n",
    "    fitness, _ = evaluate_policy(model, env)\n",
    "    print(fitness, end=\" \")\n",
    "    fitnesses.append(fitness)\n",
    "\n",
    "mean_fitness = np.mean(sorted(fitnesses)[:int(0.1 * iterations)])\n",
    "print(\"\\nIterations {:<3} Mean top 10% reward: {:.2f}\".format(iterations, -mean_fitness))"
   ]
  },
  {
   "cell_type": "markdown",
   "metadata": {},
   "source": [
    "## Retrieve Policy Parameters"
   ]
  },
  {
   "cell_type": "code",
   "execution_count": 5,
   "metadata": {},
   "outputs": [
    {
     "data": {
      "text/plain": [
       "{'mlp_extractor.policy_net.0.weight': tensor([[-3.9069e-02, -2.9751e-01,  5.7135e-02,  1.1001e-01,  4.9415e-01,\n",
       "           4.8763e-01, -2.5367e-01,  2.0103e-01],\n",
       "         [ 2.7658e-01,  1.7731e-01, -1.0760e-01,  5.2904e-01,  1.5778e-01,\n",
       "          -5.6275e-02,  1.8452e-01,  3.7666e-02],\n",
       "         [-2.5497e-01,  6.1471e-02,  6.4641e-02, -4.5071e-01, -2.0454e-01,\n",
       "          -7.9017e-02,  5.4192e-03,  3.7865e-02],\n",
       "         [-4.1247e-01, -8.6146e-02, -2.1238e-01,  8.0171e-02,  5.9006e-02,\n",
       "           3.5128e-02, -6.1475e-02, -1.8640e-01],\n",
       "         [ 3.2047e-02,  2.8532e-01, -4.5607e-01, -3.0664e-01,  1.6310e-01,\n",
       "          -1.3408e-01, -2.4096e-01,  6.1581e-02],\n",
       "         [-2.9457e-03, -1.9655e-01, -2.2810e-01,  9.4642e-02, -5.6707e-02,\n",
       "          -2.1351e-01,  1.0577e-01,  2.3724e-01],\n",
       "         [ 1.1425e-01, -2.0929e-01, -2.6077e-01,  3.2334e-01,  3.5190e-01,\n",
       "           5.6999e-01, -2.3503e-02, -8.3208e-02],\n",
       "         [-2.4273e-01, -2.3636e-02,  5.0647e-01,  3.7233e-01, -2.3459e-01,\n",
       "           3.1733e-02, -9.7417e-02, -1.2002e-01],\n",
       "         [-1.0722e-01, -9.4715e-02, -4.9190e-02, -8.9045e-02,  4.8386e-02,\n",
       "           4.3199e-02, -3.2766e-01,  2.3243e-02],\n",
       "         [-2.9342e-01, -7.2945e-03, -3.7376e-01, -3.9755e-01,  3.4780e-01,\n",
       "           4.5458e-02, -1.2380e-01,  3.4762e-02],\n",
       "         [ 4.4905e-02,  6.1501e-02,  1.7354e-01, -3.6442e-01, -1.6625e-01,\n",
       "           1.9609e-01, -6.0795e-02,  2.6113e-01],\n",
       "         [-7.0327e-03, -2.8803e-02,  2.8386e-01, -2.0754e-01, -2.7586e-01,\n",
       "           1.2242e-01,  3.6403e-01, -4.5415e-01],\n",
       "         [-2.0461e-01,  2.3392e-01, -3.0723e-01, -9.4533e-02,  3.7951e-02,\n",
       "           1.2009e-01,  5.4321e-02,  1.0454e-02],\n",
       "         [ 5.7355e-03, -3.6137e-02, -2.4010e-01, -4.9272e-01, -9.3095e-02,\n",
       "           2.1973e-01,  1.5435e-01,  2.6945e-01],\n",
       "         [-2.2562e-01, -2.7289e-01, -2.9360e-01, -8.9698e-02,  3.9658e-01,\n",
       "          -1.9641e-01,  2.9390e-01, -2.3020e-02],\n",
       "         [ 7.5959e-02, -2.2899e-01, -2.2003e-01,  2.7035e-01,  1.4864e-01,\n",
       "           1.3796e-01,  2.8935e-01,  1.4701e-01],\n",
       "         [ 3.7497e-01, -3.5623e-01,  2.8071e-02,  7.2407e-02, -2.4566e-01,\n",
       "          -2.4886e-01,  6.4307e-02, -1.7290e-01],\n",
       "         [ 4.9664e-02,  5.8569e-02, -4.2239e-02, -3.9544e-01,  3.5914e-01,\n",
       "          -1.1724e-01,  2.5066e-01,  9.9328e-02],\n",
       "         [ 2.1463e-02,  4.7627e-02,  8.1591e-02, -4.6701e-01, -8.5696e-02,\n",
       "           6.3424e-02, -1.4599e-01, -2.7697e-01],\n",
       "         [-2.2911e-01, -2.9016e-01, -4.8630e-01,  2.0958e-01,  2.3800e-01,\n",
       "          -7.7396e-02,  1.2696e-01,  2.1822e-02],\n",
       "         [-6.3152e-02, -2.9702e-02,  7.7943e-02, -1.3591e-01, -2.5063e-01,\n",
       "          -4.0151e-02,  4.2067e-01,  1.1047e-01],\n",
       "         [-2.2992e-01, -8.9784e-02, -3.9358e-02,  2.8963e-01,  4.1688e-01,\n",
       "          -2.8494e-02,  2.2539e-01,  1.4520e-02],\n",
       "         [-7.6291e-02, -2.0610e-01,  5.1147e-01,  3.6374e-02, -2.5292e-01,\n",
       "           6.7777e-02,  8.0720e-02,  3.9667e-01],\n",
       "         [-3.3394e-02,  5.7935e-02,  1.5889e-01,  1.1377e-01, -2.6796e-01,\n",
       "           5.9297e-03,  3.2070e-02, -4.2701e-01],\n",
       "         [ 2.5907e-01, -3.7367e-01,  2.4933e-01,  5.5893e-02, -1.6121e-01,\n",
       "          -2.1063e-01, -1.2143e-01, -1.9801e-02],\n",
       "         [ 9.8065e-02, -8.2598e-02, -1.6102e-01,  1.5278e-01,  3.1874e-01,\n",
       "          -1.0104e-01, -1.6596e-01, -2.0072e-01],\n",
       "         [ 3.9829e-01,  1.0167e-02,  2.7345e-01, -3.4904e-01,  2.5478e-02,\n",
       "          -1.7571e-01, -1.3681e-02,  2.9910e-01],\n",
       "         [-1.0659e-01, -4.6991e-02, -2.4073e-01,  3.8316e-01, -1.9710e-01,\n",
       "          -9.3211e-02, -1.2934e-01, -2.2707e-01],\n",
       "         [ 4.2260e-01, -2.6347e-01, -2.2239e-01,  2.9654e-01,  1.7964e-01,\n",
       "           2.2721e-01,  4.0906e-02, -2.3521e-01],\n",
       "         [ 6.3349e-02, -1.1025e-01, -4.6212e-01,  2.2532e-01,  2.7711e-01,\n",
       "          -2.6472e-02, -1.5954e-01, -1.7107e-01],\n",
       "         [-2.4370e-01,  7.3802e-02,  4.0860e-02, -3.9719e-01, -4.0671e-01,\n",
       "           6.6006e-02,  1.1598e-01,  8.3206e-02],\n",
       "         [-1.5551e-01, -2.4082e-02, -3.2600e-01, -1.9694e-01, -7.5749e-02,\n",
       "          -1.2821e-01, -2.2590e-01,  2.2100e-04],\n",
       "         [ 1.7974e-01, -1.3148e-01, -2.2796e-01,  1.0820e-01,  2.5817e-01,\n",
       "          -5.2673e-02,  2.2268e-01, -3.9979e-01],\n",
       "         [ 1.6121e-01, -1.5418e-01,  1.3896e-01,  1.0174e-01, -9.7570e-02,\n",
       "          -1.9682e-02, -1.2510e-01, -2.5552e-01],\n",
       "         [-1.1542e-02,  2.1958e-01, -3.0867e-01,  1.3057e-01, -1.8764e-01,\n",
       "           1.1082e-02, -6.5018e-03, -3.0982e-02],\n",
       "         [-1.9696e-01, -1.8657e-01,  1.5767e-01, -2.8366e-01, -9.6662e-02,\n",
       "          -6.4819e-02,  7.5960e-02,  2.4022e-01],\n",
       "         [-4.1074e-02,  1.3043e-01,  2.8984e-01, -3.4037e-01,  2.8715e-01,\n",
       "          -3.0422e-01, -7.2435e-02,  8.5429e-02],\n",
       "         [-7.7943e-02, -2.2489e-01,  4.7134e-02, -1.0120e-01, -2.7997e-01,\n",
       "           4.3194e-02,  3.2649e-01,  1.5894e-01],\n",
       "         [ 4.7020e-02,  7.8922e-03,  2.3992e-01, -6.0432e-01, -1.1432e-01,\n",
       "          -2.0061e-01,  9.0203e-02,  4.5705e-02],\n",
       "         [ 3.1605e-01, -1.8071e-01, -1.9140e-02, -1.7259e-01, -2.4226e-01,\n",
       "          -2.0003e-01, -1.4598e-01,  1.1021e-01],\n",
       "         [-2.9327e-01, -2.6679e-01, -1.4517e-01,  5.6525e-02,  2.2602e-01,\n",
       "           8.7011e-04, -8.0178e-02,  1.6002e-01],\n",
       "         [ 9.7414e-02, -6.5496e-02, -1.7046e-01,  5.8292e-02,  2.4104e-01,\n",
       "           8.8654e-02,  4.6023e-02,  4.0484e-02],\n",
       "         [-1.7848e-01,  7.2427e-02,  1.8032e-01, -2.6104e-01,  1.6731e-01,\n",
       "           1.3176e-01,  3.4415e-01, -2.0447e-01],\n",
       "         [ 5.6276e-02, -1.6813e-01, -5.5220e-02,  1.7774e-01, -2.9990e-01,\n",
       "          -9.7850e-02,  1.0182e-01,  2.1006e-01],\n",
       "         [ 1.5418e-01,  9.3022e-02,  8.4325e-02,  3.6165e-01, -1.5351e-01,\n",
       "           5.7634e-02,  2.8058e-01,  8.7291e-02],\n",
       "         [-9.5724e-02,  1.0938e-01,  1.8280e-01, -4.3818e-01, -3.1356e-02,\n",
       "          -2.1427e-02, -5.1656e-02,  1.8701e-01],\n",
       "         [ 1.1093e-01, -1.8697e-01,  1.9465e-01,  1.6473e-01, -1.9331e-02,\n",
       "          -5.2406e-02, -1.4619e-01,  3.1158e-03],\n",
       "         [-1.0097e-01, -1.6007e-01,  8.9304e-02, -2.4094e-01, -3.4548e-01,\n",
       "           1.3876e-01,  2.5677e-02, -5.4830e-02],\n",
       "         [-5.6751e-03, -1.8903e-01, -2.7661e-01,  1.5657e-01, -3.7751e-02,\n",
       "          -1.2271e-01,  1.7724e-01,  5.2018e-02],\n",
       "         [-3.7225e-02,  6.5712e-02,  3.3622e-01, -4.9830e-01, -2.8614e-02,\n",
       "           1.2720e-03, -3.0905e-02, -1.4440e-01],\n",
       "         [ 3.3469e-01,  3.4949e-01, -1.7353e-01,  2.3348e-01,  3.6371e-02,\n",
       "          -1.0233e-02, -1.0303e-02,  1.6355e-01],\n",
       "         [ 2.1930e-01, -1.9989e-02, -3.6805e-01, -4.9770e-01, -1.8482e-02,\n",
       "           3.3953e-01,  8.4539e-02, -2.1745e-01],\n",
       "         [ 2.4063e-01, -3.3379e-02,  7.0129e-02,  3.1739e-01, -1.9959e-01,\n",
       "          -3.0942e-01,  8.3557e-02,  3.1973e-02],\n",
       "         [ 1.2508e-01, -2.6359e-02, -2.3182e-01,  6.3895e-01,  1.0462e-02,\n",
       "          -2.8861e-01,  2.2576e-02,  3.4725e-03],\n",
       "         [ 9.0908e-02,  6.6384e-04, -2.1022e-01,  3.2490e-01,  2.2965e-01,\n",
       "          -2.6733e-01,  1.9552e-01, -2.4172e-01],\n",
       "         [-2.5958e-01, -1.3284e-01,  1.0254e-01,  1.5558e-01,  2.2684e-02,\n",
       "          -1.9589e-01, -1.1700e-01, -2.8900e-01],\n",
       "         [ 4.7623e-02, -4.9672e-03,  2.3560e-02, -3.2465e-02,  2.4455e-01,\n",
       "          -3.8080e-01, -6.6492e-02, -1.5824e-02],\n",
       "         [ 6.0878e-03,  1.7578e-03,  1.5904e-02,  4.2543e-01, -2.9817e-01,\n",
       "           1.2448e-01, -2.6348e-02,  7.5534e-02],\n",
       "         [ 9.3590e-03,  5.5366e-02,  3.4998e-01, -1.2571e-01, -5.0603e-01,\n",
       "           1.3560e-01,  1.8023e-02,  3.8739e-02],\n",
       "         [-7.0677e-02, -4.9884e-01, -7.7741e-02, -2.0586e-01, -2.8064e-01,\n",
       "          -1.1889e-01, -2.5477e-01,  1.0515e-02],\n",
       "         [-1.5512e-01,  2.1724e-01, -9.2950e-02,  2.2059e-01,  3.4731e-01,\n",
       "          -1.9974e-02, -1.2851e-01,  1.1661e-01],\n",
       "         [ 2.2741e-01, -4.2893e-02,  2.0347e-01, -4.6272e-02,  1.2355e-03,\n",
       "          -5.6342e-04, -2.9724e-01, -7.4014e-02],\n",
       "         [ 1.5232e-01, -8.1940e-02,  3.3967e-01,  2.1859e-01, -3.9005e-02,\n",
       "          -1.1948e-01,  3.8865e-01, -9.8221e-02],\n",
       "         [-3.9978e-02,  2.4650e-02, -5.3748e-01,  5.8589e-01,  6.3874e-02,\n",
       "           2.3362e-01, -8.9693e-02,  2.9252e-02]]),\n",
       " 'mlp_extractor.policy_net.0.bias': tensor([-1.4618e-02,  2.8207e-03,  1.4582e-03, -1.0619e-02, -1.1894e-02,\n",
       "         -2.8288e-02,  1.8965e-02, -1.3331e-02, -3.1239e-02,  3.1823e-02,\n",
       "         -2.7371e-02, -1.0078e-02, -3.4780e-02, -5.2597e-02, -1.8336e-02,\n",
       "         -1.4354e-02, -4.1619e-03,  8.7729e-03, -3.4515e-04,  6.5033e-03,\n",
       "          2.0933e-02, -1.7867e-02,  9.0953e-03,  4.2915e-03,  4.5499e-03,\n",
       "          5.6393e-03,  7.2040e-03, -7.9033e-03,  2.0426e-03, -1.8308e-02,\n",
       "          4.4505e-05,  9.2592e-03, -3.4963e-02,  2.1178e-03,  8.4410e-03,\n",
       "         -2.3534e-02,  1.3031e-02,  5.0324e-03,  8.1166e-03, -3.0788e-02,\n",
       "          9.2522e-03,  9.0875e-04,  2.0668e-02, -3.2940e-03,  3.0692e-04,\n",
       "         -3.6758e-03,  8.7645e-03, -1.3284e-02, -1.2541e-02,  1.1862e-02,\n",
       "          1.0185e-03,  4.5282e-03,  5.6643e-03, -1.3301e-02, -1.5693e-02,\n",
       "         -8.8892e-03, -7.1400e-02, -6.3568e-03, -5.1066e-03,  1.5890e-02,\n",
       "          2.0057e-02,  2.0481e-02, -5.7363e-03, -1.7928e-02]),\n",
       " 'mlp_extractor.policy_net.2.weight': tensor([[ 0.0789, -0.4223,  0.0803,  ..., -0.4373, -0.1267, -0.2684],\n",
       "         [ 0.0337, -0.0782,  0.1953,  ...,  0.1446,  0.1645,  0.0139],\n",
       "         [-0.0086,  0.1398,  0.1440,  ..., -0.1870,  0.1617,  0.2746],\n",
       "         ...,\n",
       "         [-0.0921,  0.0902, -0.2634,  ...,  0.0046, -0.0792,  0.1783],\n",
       "         [ 0.0686,  0.3859,  0.0268,  ..., -0.1734,  0.2824,  0.1949],\n",
       "         [-0.3368, -0.0757,  0.2459,  ..., -0.2991,  0.0985, -0.1615]]),\n",
       " 'mlp_extractor.policy_net.2.bias': tensor([ 2.0354e-02,  2.0381e-02, -1.8199e-02, -1.3141e-02,  3.7586e-04,\n",
       "          5.6609e-03, -3.2239e-03,  4.3126e-03, -3.0430e-02, -3.3211e-02,\n",
       "         -7.7383e-03,  8.7913e-03, -1.1944e-02,  1.9406e-04, -2.1810e-02,\n",
       "          1.0494e-02, -3.6735e-03,  1.1679e-02, -1.7592e-02, -2.9458e-03,\n",
       "          1.9478e-02,  1.7517e-03,  1.1161e-02, -2.3008e-02,  2.1063e-02,\n",
       "         -6.5965e-03, -1.5662e-02, -8.5559e-05, -4.3733e-03,  9.1169e-06,\n",
       "          7.9134e-03, -7.4755e-04, -1.1451e-02, -2.5678e-03, -7.9905e-03,\n",
       "          3.1434e-03, -9.2534e-03, -2.1343e-02,  2.9769e-03,  1.2261e-02,\n",
       "         -1.4504e-02, -3.2450e-03,  1.6369e-02, -3.0497e-03,  4.1966e-02,\n",
       "         -2.1762e-03, -1.6351e-02, -1.3191e-02, -1.6154e-02,  1.6855e-02,\n",
       "         -8.5516e-03,  1.9257e-03, -5.7093e-03, -1.9557e-02, -6.5132e-03,\n",
       "          1.3105e-02,  2.9152e-03, -2.0473e-03, -8.2836e-04,  1.8462e-02,\n",
       "         -9.4444e-03, -4.2386e-03, -4.5770e-03,  4.9589e-03]),\n",
       " 'action_net.weight': tensor([[-0.1129,  0.0491, -0.0222, -0.0332, -0.0517, -0.0536,  0.1081,  0.0813,\n",
       "          -0.0537, -0.0506,  0.0679, -0.0474, -0.0744, -0.0532, -0.0609,  0.0642,\n",
       "           0.0743, -0.0562, -0.0636,  0.0523,  0.0547, -0.0710, -0.0532,  0.0096,\n",
       "          -0.0859,  0.0852, -0.0681, -0.0725,  0.0471, -0.0534, -0.0398,  0.0340,\n",
       "          -0.0374, -0.0680,  0.0627,  0.0704, -0.0272,  0.0435, -0.0707, -0.0495,\n",
       "           0.0633, -0.0884, -0.1116, -0.0455, -0.0617,  0.0647,  0.0375,  0.0460,\n",
       "           0.0639,  0.0714,  0.0694, -0.0616, -0.0644,  0.1055,  0.0850, -0.0546,\n",
       "           0.0529,  0.0587, -0.0689,  0.0567,  0.0545,  0.0568,  0.0790, -0.0572],\n",
       "         [ 0.0348,  0.1539, -0.1115, -0.1498, -0.1375,  0.0637, -0.0127,  0.1779,\n",
       "          -0.1412, -0.1154,  0.0169,  0.0345,  0.0483,  0.0751, -0.0515, -0.0482,\n",
       "           0.1588,  0.0525, -0.1372,  0.1861,  0.1370,  0.1064,  0.0360, -0.0835,\n",
       "          -0.1652,  0.0393, -0.0630,  0.0033, -0.0583, -0.1604,  0.0826,  0.1801,\n",
       "          -0.1146, -0.0810,  0.0254, -0.0755, -0.0993,  0.2142, -0.1638, -0.0168,\n",
       "           0.1719,  0.0596, -0.2195, -0.0346,  0.0109,  0.0452, -0.0551, -0.0587,\n",
       "          -0.0195,  0.1704, -0.0412, -0.0499, -0.0755,  0.0351, -0.0053,  0.0469,\n",
       "           0.1869,  0.0115, -0.0044,  0.1740, -0.0243, -0.0859,  0.2154,  0.0257],\n",
       "         [ 0.1816, -0.0454,  0.0274,  0.0303,  0.0494,  0.0884, -0.1766, -0.1307,\n",
       "           0.0460,  0.0257, -0.0699,  0.0956,  0.1628,  0.1003,  0.0313, -0.1031,\n",
       "          -0.0917,  0.1037,  0.0612, -0.0694, -0.0514,  0.1157,  0.0937,  0.0128,\n",
       "           0.1227, -0.0986,  0.0445,  0.0654, -0.0852,  0.0614,  0.0961, -0.0508,\n",
       "           0.0304,  0.0602, -0.0284, -0.0968,  0.0263, -0.0555,  0.0828,  0.0070,\n",
       "          -0.0839,  0.1370,  0.1840,  0.0220,  0.0222, -0.0390, -0.0829, -0.0893,\n",
       "          -0.0498, -0.0944, -0.0570,  0.0384,  0.0383, -0.1737, -0.1188,  0.0523,\n",
       "          -0.0604, -0.0276,  0.0825, -0.0849, -0.0647, -0.1339, -0.1284,  0.0897],\n",
       "         [-0.2167, -0.0991,  0.1099,  0.1180,  0.1042, -0.1259,  0.1731, -0.0250,\n",
       "           0.0932,  0.1071, -0.0041, -0.1081, -0.1998, -0.1455,  0.0706,  0.1209,\n",
       "          -0.0771, -0.1315,  0.0815, -0.1115, -0.0913, -0.2498, -0.1055,  0.0472,\n",
       "           0.0351,  0.0183,  0.0547, -0.0118,  0.1040,  0.1029, -0.1548, -0.1249,\n",
       "           0.1042,  0.0535, -0.0575,  0.1245,  0.1129, -0.1423,  0.0848,  0.0744,\n",
       "          -0.0931, -0.1550,  0.0195,  0.0660,  0.0400, -0.0551,  0.1080,  0.1259,\n",
       "           0.0167, -0.0583,  0.0376,  0.0675,  0.0756,  0.1259,  0.0689, -0.0463,\n",
       "          -0.1130, -0.0451, -0.0310, -0.0651,  0.0497,  0.1995, -0.0604, -0.0823]]),\n",
       " 'action_net.bias': tensor([-0.0595, -0.0031,  0.0193,  0.0463])}"
      ]
     },
     "execution_count": 5,
     "metadata": {},
     "output_type": "execute_result"
    }
   ],
   "source": [
    "# Include only variables with \"policy\", \"action\" (policy) or \"shared_net\" (shared layers)\n",
    "# in their name: only these ones affect the action.\n",
    "# NOTE: you can retrieve those parameters using model.get_parameters() too\n",
    "mean_params = dict(\n",
    "    (key, value)\n",
    "    for key, value in model.policy.state_dict().items()\n",
    "    if (\"policy\" in key or \"shared_net\" in key or \"action\" in key)\n",
    ")\n",
    "\n",
    "mean_params"
   ]
  },
  {
   "cell_type": "markdown",
   "metadata": {},
   "source": [
    "## Create Evolution Strategy Object"
   ]
  },
  {
   "cell_type": "code",
   "execution_count": 6,
   "metadata": {},
   "outputs": [
    {
     "name": "stdout",
     "output_type": "stream",
     "text": [
      "(14_w,29)-aCMA-ES (mu_w=8.4,w_1=21%) in dimension 4996 (seed=155161, Sun Oct 24 00:16:32 2021)\n"
     ]
    }
   ],
   "source": [
    "es = cma.CMAEvolutionStrategy(flatten(mean_params), sigma0=1)"
   ]
  },
  {
   "cell_type": "markdown",
   "metadata": {},
   "source": [
    "## Iterate through Mutated Policy Params"
   ]
  },
  {
   "cell_type": "code",
   "execution_count": 7,
   "metadata": {},
   "outputs": [
    {
     "name": "stdout",
     "output_type": "stream",
     "text": [
      "Iteration 0   Mean top 10% reward: 1060.47\n",
      "Iteration 1   Mean top 10% reward: 697.28\n",
      "Iteration 2   Mean top 10% reward: 696.71\n",
      "Iteration 3   Mean top 10% reward: 826.30\n",
      "Iteration 4   Mean top 10% reward: 1029.41\n",
      "Iteration 5   Mean top 10% reward: 1003.31\n",
      "Iteration 6   Mean top 10% reward: 933.45\n",
      "Iteration 7   Mean top 10% reward: 1088.30\n",
      "Iteration 8   Mean top 10% reward: 1170.51\n",
      "Iteration 9   Mean top 10% reward: 1089.46\n"
     ]
    }
   ],
   "source": [
    "for iteration in range(10):\n",
    "    # Create population of candidates and evaluate them\n",
    "    candidates, fitnesses = es.ask(), []\n",
    "    for candidate in candidates:\n",
    "        # Load new policy parameters to agent.\n",
    "        # print(candidate.shape)\n",
    "        model.policy.load_state_dict(to_dict(candidate, mean_params), strict=False)\n",
    "        # Evaluate the agent using stable-baselines predict function\n",
    "        fitness, _ = evaluate_policy(model, env)\n",
    "        fitnesses.append(fitness)\n",
    "    # CMA-ES update\n",
    "    es.tell(candidates, fitnesses)\n",
    "    # Display some training infos\n",
    "    mean_fitness = np.mean(sorted(fitnesses)[:int(0.1 * len(candidates))])\n",
    "    print(\"Iteration {:<3} Mean top 10% reward: {:.2f}\".format(iteration, -mean_fitness))"
   ]
  },
  {
   "cell_type": "markdown",
   "metadata": {},
   "source": [
    "## Re-learn the Model and Evaluate"
   ]
  },
  {
   "cell_type": "code",
   "execution_count": 8,
   "metadata": {},
   "outputs": [
    {
     "name": "stdout",
     "output_type": "stream",
     "text": [
      "-621.5978957628831 -583.5865632622969 -626.0510313031962 -645.9844730104669 -722.7712184350937 -546.0729721915326 -642.8980144155881 -565.4102624164894 -569.0454332590103 -702.1407415207475 \n",
      "Iterations 10  Mean top 10% reward: 1125.86\n"
     ]
    }
   ],
   "source": [
    "model.learn(total_timesteps=10_000)\n",
    "\n",
    "fitnesses\n",
    "iterations = 10\n",
    "for i in range(iterations):\n",
    "    fitness, _ = evaluate_policy(model, env)\n",
    "    print(fitness, end=\" \")\n",
    "    fitnesses.append(fitness)\n",
    "\n",
    "mean_fitness = np.mean(sorted(fitnesses)[:int(0.1 * iterations)])\n",
    "print(\"\\nIterations {:<3} Mean top 10% reward: {:.2f}\".format(iterations, -mean_fitness))"
   ]
  },
  {
   "cell_type": "markdown",
   "metadata": {},
   "source": [
    "## Save The Model"
   ]
  },
  {
   "cell_type": "code",
   "execution_count": 9,
   "metadata": {},
   "outputs": [],
   "source": [
    "model.save(\"cmaes_lunar\")"
   ]
  },
  {
   "cell_type": "markdown",
   "metadata": {},
   "source": []
  },
  {
   "cell_type": "markdown",
   "metadata": {},
   "source": [
    "# Exporting Params as JSON"
   ]
  },
  {
   "cell_type": "markdown",
   "metadata": {},
   "source": [
    "## Function to Convert Params Dict to Flattened List"
   ]
  },
  {
   "cell_type": "code",
   "execution_count": 10,
   "metadata": {},
   "outputs": [],
   "source": [
    "def flatten_list(params):\n",
    "    \"\"\"\n",
    "    :param params: (dict)\n",
    "    :return: (np.ndarray)\n",
    "    \"\"\"\n",
    "    params_ = {}\n",
    "    for key in params.keys():\n",
    "        params_[key] = params[key].flatten().tolist()\n",
    "    return params_"
   ]
  },
  {
   "cell_type": "markdown",
   "metadata": {},
   "source": [
    "## Write Parameters to JSON File"
   ]
  },
  {
   "cell_type": "code",
   "execution_count": 11,
   "metadata": {},
   "outputs": [],
   "source": [
    "import json\n",
    "\n",
    "with open('data.json', 'w') as f:\n",
    "    json.dump(flatten_list(mean_params), f, indent='\\t')"
   ]
  }
 ],
 "metadata": {
  "interpreter": {
   "hash": "3fe87c7677a9be80aab770929aa8f3d40850ac08a0f73ec246342c77c48f1c11"
  },
  "kernelspec": {
   "display_name": "Python 3.7.2 64-bit ('pydrl': conda)",
   "name": "python3"
  },
  "language_info": {
   "codemirror_mode": {
    "name": "ipython",
    "version": 3
   },
   "file_extension": ".py",
   "mimetype": "text/x-python",
   "name": "python",
   "nbconvert_exporter": "python",
   "pygments_lexer": "ipython3",
   "version": "3.7.2"
  },
  "orig_nbformat": 4
 },
 "nbformat": 4,
 "nbformat_minor": 2
}
