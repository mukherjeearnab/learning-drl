{
 "cells": [
  {
   "cell_type": "markdown",
   "metadata": {},
   "source": [
    "# Single Train Gradient Update"
   ]
  },
  {
   "cell_type": "markdown",
   "metadata": {},
   "source": [
    "## Importing Libraries"
   ]
  },
  {
   "cell_type": "code",
   "execution_count": 1,
   "metadata": {},
   "outputs": [
    {
     "name": "stderr",
     "output_type": "stream",
     "text": [
      "/home/arnab/.miniconda3/envs/pydrl/lib/python3.7/site-packages/ale_py/roms/utils.py:90: DeprecationWarning: SelectableGroups dict interface is deprecated. Use select.\n",
      "  for external in metadata.entry_points().get(self.group, []):\n"
     ]
    }
   ],
   "source": [
    "from typing import Dict\n",
    "import threading\n",
    "\n",
    "import gym\n",
    "import numpy as np\n",
    "import torch\n",
    "\n",
    "from stable_baselines3 import PPO as ALGO\n",
    "from stable_baselines3.common.evaluation import evaluate_policy"
   ]
  },
  {
   "cell_type": "code",
   "execution_count": 2,
   "metadata": {},
   "outputs": [],
   "source": [
    "# Hyper-Parameters\n",
    "NUM_TRAINING_STEPS = 1000\n",
    "NUM_ITERATIONS = 10\n",
    "ENV_NAME = 'CartPole-v1'\n"
   ]
  },
  {
   "cell_type": "markdown",
   "metadata": {},
   "source": [
    "## Init. ENV and Model"
   ]
  },
  {
   "cell_type": "code",
   "execution_count": 3,
   "metadata": {},
   "outputs": [],
   "source": [
    "global_model = ALGO.load(\n",
    "    \"initial\",\n",
    "    gym.make(ENV_NAME)\n",
    ")"
   ]
  },
  {
   "cell_type": "markdown",
   "metadata": {},
   "source": [
    "## Functions to Evaluate Model and Train Model within Thread"
   ]
  },
  {
   "cell_type": "code",
   "execution_count": 4,
   "metadata": {},
   "outputs": [],
   "source": [
    "def evaluate(model, env, message = '', verbose = 0):\n",
    "    fitnesses = []\n",
    "    iterations = 20\n",
    "    for i in range(iterations):\n",
    "        fitness, _ = evaluate_policy(model, env)\n",
    "        if verbose == 1:\n",
    "            print(i, fitness, end=\" \")\n",
    "        fitnesses.append(fitness)\n",
    "\n",
    "    mean_fitness = np.mean(sorted(fitnesses))\n",
    "    print(f'Type {message} Mean reward: {mean_fitness}')"
   ]
  },
  {
   "cell_type": "code",
   "execution_count": 5,
   "metadata": {},
   "outputs": [],
   "source": [
    "def train(model, timesteps):\n",
    "    # print('Starting Training')\n",
    "    model.learn(total_timesteps=timesteps)\n",
    "    # print('Completed Training')"
   ]
  },
  {
   "cell_type": "markdown",
   "metadata": {},
   "source": [
    "## Initial Evaluation"
   ]
  },
  {
   "cell_type": "code",
   "execution_count": 6,
   "metadata": {},
   "outputs": [
    {
     "name": "stderr",
     "output_type": "stream",
     "text": [
      "/home/arnab/.miniconda3/envs/pydrl/lib/python3.7/site-packages/stable_baselines3/common/evaluation.py:69: UserWarning: Evaluation environment is not wrapped with a ``Monitor`` wrapper. This may result in reporting modified episode lengths and rewards, if other wrappers happen to modify these. Consider wrapping environment first with ``Monitor`` wrapper.\n",
      "  UserWarning,\n"
     ]
    },
    {
     "name": "stdout",
     "output_type": "stream",
     "text": [
      "Type  Mean reward: 9.92\n"
     ]
    }
   ],
   "source": [
    "evaluate(global_model, gym.make(ENV_NAME))"
   ]
  },
  {
   "cell_type": "markdown",
   "metadata": {},
   "source": [
    "# Train and Evaluate"
   ]
  },
  {
   "cell_type": "code",
   "execution_count": 7,
   "metadata": {},
   "outputs": [
    {
     "name": "stdout",
     "output_type": "stream",
     "text": [
      "Type Global Initial Model Mean reward: 9.855\n",
      "Train Iter:  0\n",
      "Type Global Updated Model Mean reward: 178.515\n",
      "Train Iter:  1\n",
      "Type Global Updated Model Mean reward: 279.2049999999999\n",
      "Train Iter:  2\n",
      "Type Global Updated Model Mean reward: 310.03000000000003\n",
      "Train Iter:  3\n",
      "Type Global Updated Model Mean reward: 349.495\n",
      "Train Iter:  4\n",
      "Type Global Updated Model Mean reward: 363.95500000000004\n",
      "Train Iter:  5\n",
      "Type Global Updated Model Mean reward: 413.26000000000005\n",
      "Train Iter:  6\n",
      "Type Global Updated Model Mean reward: 469.495\n",
      "Train Iter:  7\n",
      "Type Global Updated Model Mean reward: 492.875\n",
      "Train Iter:  8\n",
      "Type Global Updated Model Mean reward: 500.0\n",
      "Train Iter:  9\n",
      "Type Global Updated Model Mean reward: 500.0\n"
     ]
    }
   ],
   "source": [
    "# Evaluation Before Iterated Training\n",
    "evaluate(global_model, gym.make(ENV_NAME), \"Global Initial Model\")\n",
    "\n",
    "for i in range(NUM_ITERATIONS):\n",
    "    print('Train Iter: ', i)\n",
    "\n",
    "    # Train Global Model\n",
    "    global_model.learn(total_timesteps=NUM_TRAINING_STEPS)\n",
    "    \n",
    "    # Evaluate Updated Global Model\n",
    "    evaluate(global_model, gym.make(ENV_NAME), 'Global Updated Model', verbose=0)\n"
   ]
  }
 ],
 "metadata": {
  "interpreter": {
   "hash": "3fe87c7677a9be80aab770929aa8f3d40850ac08a0f73ec246342c77c48f1c11"
  },
  "kernelspec": {
   "display_name": "Python 3.7.2 64-bit ('pydrl': conda)",
   "name": "python3"
  },
  "language_info": {
   "codemirror_mode": {
    "name": "ipython",
    "version": 3
   },
   "file_extension": ".py",
   "mimetype": "text/x-python",
   "name": "python",
   "nbconvert_exporter": "python",
   "pygments_lexer": "ipython3",
   "version": "3.7.2"
  },
  "orig_nbformat": 4
 },
 "nbformat": 4,
 "nbformat_minor": 2
}
