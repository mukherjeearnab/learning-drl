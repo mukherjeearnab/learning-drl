{
 "cells": [
  {
   "cell_type": "markdown",
   "id": "89a42511-b5fb-4487-914b-258ff7dde97a",
   "metadata": {},
   "source": [
    "# New Q Value Formula"
   ]
  },
  {
   "cell_type": "markdown",
   "id": "a7595cc1-c1f0-4d42-b730-2c7a80871edb",
   "metadata": {},
   "source": [
    "\n",
    "<img src=\"new-q-value-formula.png\" />"
   ]
  },
  {
   "cell_type": "code",
   "execution_count": 15,
   "id": "828e1142-5806-49e8-b3f2-49fb5642c71e",
   "metadata": {},
   "outputs": [],
   "source": [
    "# Import Libraries\n",
    "import gym\n",
    "import numpy as np\n",
    "\n",
    "env = gym.make(\"MountainCar-v0\")"
   ]
  },
  {
   "cell_type": "code",
   "execution_count": 16,
   "id": "fbafb23b-baef-422f-9f8e-7ebb5add35ee",
   "metadata": {},
   "outputs": [],
   "source": [
    "# Define Constants\n",
    "LEARNING_RATE = 0.1\n",
    "\n",
    "DISCOUNT = 0.95\n",
    "EPISODES = 25000\n",
    "SHOW_EVERY = 3000\n",
    "\n",
    "DISCRETE_OS_SIZE = [20, 20]"
   ]
  },
  {
   "cell_type": "code",
   "execution_count": 17,
   "id": "c78d3542-4287-4c2e-85d0-ef0228e29db5",
   "metadata": {},
   "outputs": [
    {
     "name": "stdout",
     "output_type": "stream",
     "text": [
      "[0.09  0.007]\n"
     ]
    }
   ],
   "source": [
    "# Discrete Observation Space Window Size\n",
    "discrete_os_win_size = (env.observation_space.high - env.observation_space.low)/DISCRETE_OS_SIZE\n",
    "print(discrete_os_win_size)"
   ]
  },
  {
   "cell_type": "code",
   "execution_count": 18,
   "id": "8a123b79-1e26-4e54-909e-1a127139f53d",
   "metadata": {},
   "outputs": [],
   "source": [
    "# Exploration Settings (Epilipson)\n",
    "\n",
    "epsilon = 1  # not a constant, going to be decayed\n",
    "START_EPSILON_DECAYING = 1\n",
    "END_EPSILON_DECAYING = EPISODES//2\n",
    "epsilon_decay_value = epsilon/(END_EPSILON_DECAYING - START_EPSILON_DECAYING)"
   ]
  },
  {
   "cell_type": "code",
   "execution_count": 19,
   "id": "20e83791-bb10-435f-b2c1-c700d0f8ccc6",
   "metadata": {},
   "outputs": [
    {
     "name": "stdout",
     "output_type": "stream",
     "text": [
      "[[[-0.2341829  -0.86750922 -0.68485398]\n",
      "  [-1.68630194 -0.46946581 -1.12396437]\n",
      "  [-1.49955954 -1.6247043  -1.67467295]\n",
      "  ...\n",
      "  [-1.32668568 -1.40300399 -0.18923154]\n",
      "  [-1.87897654 -0.78743303 -0.72826701]\n",
      "  [-1.97359281 -1.53017818 -1.13620161]]\n",
      "\n",
      " [[-1.67721399 -1.52005015 -0.04530951]\n",
      "  [-0.58017771 -1.21841716 -0.98542608]\n",
      "  [-1.35860766 -1.89329942 -1.01172303]\n",
      "  ...\n",
      "  [-0.16762097 -1.81761799 -1.94075319]\n",
      "  [-0.17421264 -1.46238871 -1.15233242]\n",
      "  [-0.19929039 -0.37305163 -1.54856335]]\n",
      "\n",
      " [[-0.82775093 -1.59685759 -0.5650971 ]\n",
      "  [-1.57378856 -1.4710741  -1.0808831 ]\n",
      "  [-1.4778662  -1.90733164 -1.56265116]\n",
      "  ...\n",
      "  [-0.3099429  -0.46606701 -0.14325153]\n",
      "  [-0.86766472 -0.35847534 -1.29605973]\n",
      "  [-0.37107107 -0.61179773 -1.21878579]]\n",
      "\n",
      " ...\n",
      "\n",
      " [[-1.87030674 -0.36674264 -1.90681674]\n",
      "  [-0.07114208 -0.24228295 -0.59908084]\n",
      "  [-1.04897384 -0.62870183 -0.63278902]\n",
      "  ...\n",
      "  [-0.90376234 -1.62992007 -0.22285966]\n",
      "  [-0.95269592 -1.65316842 -0.63779135]\n",
      "  [-1.76529787 -0.31085041 -0.45290287]]\n",
      "\n",
      " [[-0.44954564 -1.53667731 -0.82126487]\n",
      "  [-1.58129445 -1.26138809 -0.89981237]\n",
      "  [-0.54504126 -0.84762794 -0.55861479]\n",
      "  ...\n",
      "  [-0.6319064  -0.79288745 -0.69017413]\n",
      "  [-0.73622216 -0.44059421 -1.88548155]\n",
      "  [-0.65164193 -0.11958535 -0.55542737]]\n",
      "\n",
      " [[-0.87020124 -1.13331093 -0.46333584]\n",
      "  [-1.33141529 -0.52904596 -1.30626015]\n",
      "  [-0.55245225 -0.79509406 -0.3801147 ]\n",
      "  ...\n",
      "  [-1.78464927 -1.40858813 -1.62180187]\n",
      "  [-0.70105848 -0.9060431  -0.73353839]\n",
      "  [-0.57842638 -0.3509986  -1.63974986]]]\n"
     ]
    }
   ],
   "source": [
    "# Generate Q Table\n",
    "q_table = np.random.uniform(low=-2, high=0, size=(DISCRETE_OS_SIZE + [env.action_space.n]))\n",
    "print(q_table)"
   ]
  },
  {
   "cell_type": "code",
   "execution_count": 20,
   "id": "c66e763b-fca5-47fe-ae60-ce579b8c24da",
   "metadata": {},
   "outputs": [],
   "source": [
    "# Method to get Discrete State\n",
    "def get_discrete_state(state):\n",
    "    discrete_state = (state - env.observation_space.low)/discrete_os_win_size\n",
    "    return tuple(discrete_state.astype(np.int))  # we use this tuple to look up the 3 Q values for the available actions in the q-table"
   ]
  },
  {
   "cell_type": "markdown",
   "id": "048ae535-cc69-40bb-b890-a34e50179bbb",
   "metadata": {},
   "source": [
    "# Exploration & Exploitation"
   ]
  }
 ],
 "metadata": {
  "interpreter": {
   "hash": "cd8178dfcb1392086c031fae86543bfc7f06100acabda273f60f62f84b8ebd57"
  },
  "kernelspec": {
   "display_name": "Python 3.7.2 64-bit ('pydrl': conda)",
   "name": "python3"
  },
  "language_info": {
   "codemirror_mode": {
    "name": "ipython",
    "version": 3
   },
   "file_extension": ".py",
   "mimetype": "text/x-python",
   "name": "python",
   "nbconvert_exporter": "python",
   "pygments_lexer": "ipython3",
   "version": "3.7.2"
  }
 },
 "nbformat": 4,
 "nbformat_minor": 5
}
