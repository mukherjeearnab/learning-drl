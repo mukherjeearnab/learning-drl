{
 "cells": [
  {
   "cell_type": "markdown",
   "metadata": {},
   "source": [
    "# Modifying and Loading Parameters of Policies (Gradient Update)"
   ]
  },
  {
   "cell_type": "markdown",
   "metadata": {},
   "source": [
    "## Importing Libraries"
   ]
  },
  {
   "cell_type": "code",
   "execution_count": 1,
   "metadata": {},
   "outputs": [],
   "source": [
    "from typing import Dict\n",
    "\n",
    "import gym\n",
    "import numpy as np\n",
    "import torch as th\n",
    "\n",
    "from stable_baselines3 import A2C as ALGO\n",
    "from stable_baselines3.common.evaluation import evaluate_policy"
   ]
  },
  {
   "cell_type": "markdown",
   "metadata": {},
   "source": [
    "## Init. ENV and Model"
   ]
  },
  {
   "cell_type": "code",
   "execution_count": 2,
   "metadata": {},
   "outputs": [],
   "source": [
    "env = gym.make('CartPole-v1')\n",
    "model = ALGO(\n",
    "    \"MlpPolicy\",\n",
    "    env\n",
    ")\n",
    "\n",
    "model_trained = ALGO(\n",
    "    \"MlpPolicy\",\n",
    "    env\n",
    ")"
   ]
  },
  {
   "cell_type": "markdown",
   "metadata": {},
   "source": [
    "## Function to Evaluate Model "
   ]
  },
  {
   "cell_type": "code",
   "execution_count": 3,
   "metadata": {},
   "outputs": [],
   "source": [
    "def evaluate(model, env, message = ''):\n",
    "    fitnesses = []\n",
    "    iterations = 20\n",
    "    for i in range(iterations):\n",
    "        fitness, _ = evaluate_policy(model, env)\n",
    "        print(i, fitness, end=\"\\r\")\n",
    "        fitnesses.append(fitness)\n",
    "\n",
    "    mean_fitness = np.mean(sorted(fitnesses))\n",
    "    print(f'Type {message} Mean reward: {mean_fitness}')"
   ]
  },
  {
   "cell_type": "markdown",
   "metadata": {},
   "source": [
    "## Initial Evaluation"
   ]
  },
  {
   "cell_type": "code",
   "execution_count": 4,
   "metadata": {},
   "outputs": [
    {
     "name": "stderr",
     "output_type": "stream",
     "text": [
      "/home/arnab/.miniconda3/envs/pydrl/lib/python3.7/site-packages/stable_baselines3/common/evaluation.py:69: UserWarning: Evaluation environment is not wrapped with a ``Monitor`` wrapper. This may result in reporting modified episode lengths and rewards, if other wrappers happen to modify these. Consider wrapping environment first with ``Monitor`` wrapper.\n",
      "  UserWarning,\n"
     ]
    },
    {
     "name": "stdout",
     "output_type": "stream",
     "text": [
      "Type  Mean reward: 57.325\n",
      "Type  Mean reward: 83.95000000000002\n"
     ]
    }
   ],
   "source": [
    "evaluate(model, env)\n",
    "evaluate(model_trained, env)"
   ]
  },
  {
   "cell_type": "markdown",
   "metadata": {},
   "source": [
    "## Train for 1K Steps and Evaluate"
   ]
  },
  {
   "cell_type": "code",
   "execution_count": 5,
   "metadata": {},
   "outputs": [
    {
     "name": "stdout",
     "output_type": "stream",
     "text": [
      "Type  Mean reward: 134.14000000000001\n",
      "Type  Mean reward: 53.510000000000005\n"
     ]
    }
   ],
   "source": [
    "# Train MT Model\n",
    "model_trained.learn(total_timesteps=10_00)\n",
    "evaluate(model_trained, env)\n",
    "evaluate(model, env)"
   ]
  },
  {
   "cell_type": "markdown",
   "metadata": {},
   "source": [
    "## Apply Gradient and Evaluate"
   ]
  },
  {
   "cell_type": "code",
   "execution_count": 6,
   "metadata": {},
   "outputs": [
    {
     "name": "stderr",
     "output_type": "stream",
     "text": [
      "/home/arnab/.miniconda3/envs/pydrl/lib/python3.7/site-packages/ipykernel_launcher.py:10: UserWarning: This overload of add_ is deprecated:\n",
      "\tadd_(Number alpha, Tensor other)\n",
      "Consider using one of the following signatures instead:\n",
      "\tadd_(Tensor other, *, Number alpha) (Triggered internally at  ../torch/csrc/utils/python_arg_parser.cpp:1025.)\n",
      "  # Remove the CWD from sys.path while we load stuff.\n"
     ]
    },
    {
     "name": "stdout",
     "output_type": "stream",
     "text": [
      "Type  Mean reward: 80.41\n"
     ]
    }
   ],
   "source": [
    "state_dict = model.policy.state_dict()\n",
    "optim_dict = model_trained.policy.optimizer.param_groups[0]['params']\n",
    "optim_alpha = model.policy.optimizer.param_groups[0]['alpha']\n",
    "\n",
    "# print(state_dict['q_net.q_net.0.weight'])\n",
    "\n",
    "optim_index = 0\n",
    "for key, value in state_dict.items():\n",
    "    # print(key)\n",
    "    state_dict[key].add_(optim_alpha, optim_dict[optim_index])\n",
    "    optim_index += 1\n",
    "\n",
    "model.policy.load_state_dict(state_dict)\n",
    "\n",
    "evaluate(model, env)"
   ]
  },
  {
   "cell_type": "code",
   "execution_count": 7,
   "metadata": {},
   "outputs": [
    {
     "name": "stdout",
     "output_type": "stream",
     "text": [
      "Train Iter:  0\n",
      "Type Trained Model Mean reward: 38.964999999999996\n",
      "Type Initial Model Mean reward: 86.07000000000001\n",
      "Type Updated Model Mean reward: 59.519999999999996\n",
      "Train Iter:  1\n",
      "Type Trained Model Mean reward: 67.56\n",
      "Type Initial Model Mean reward: 61.779999999999994\n",
      "Type Updated Model Mean reward: 68.46000000000001\n",
      "Train Iter:  2\n",
      "Type Trained Model Mean reward: 47.769999999999996\n",
      "Type Initial Model Mean reward: 68.525\n",
      "Type Updated Model Mean reward: 63.165\n",
      "Train Iter:  3\n",
      "Type Trained Model Mean reward: 186.17999999999998\n",
      "Type Initial Model Mean reward: 66.215\n",
      "Type Updated Model Mean reward: 90.53999999999999\n",
      "Train Iter:  4\n",
      "Type Trained Model Mean reward: 500.0\n",
      "Type Initial Model Mean reward: 88.22999999999999\n",
      "Type Updated Model Mean reward: 151.54\n",
      "Train Iter:  5\n",
      "Type Trained Model Mean reward: 159.76\n",
      "Type Initial Model Mean reward: 151.89000000000001\n",
      "Type Updated Model Mean reward: 284.32000000000005\n",
      "Train Iter:  6\n",
      "Type Trained Model Mean reward: 500.0\n",
      "Type Initial Model Mean reward: 272.71\n",
      "Type Updated Model Mean reward: 409.59499999999997\n",
      "Train Iter:  7\n",
      "Type Trained Model Mean reward: 133.79999999999998\n",
      "Type Initial Model Mean reward: 399.64\n",
      "Type Updated Model Mean reward: 499.925\n",
      "Train Iter:  8\n",
      "Type Trained Model Mean reward: 100.835\n",
      "Type Initial Model Mean reward: 500.0\n",
      "Type Updated Model Mean reward: 500.0\n",
      "Train Iter:  9\n",
      "Type Trained Model Mean reward: 185.11499999999998\n",
      "Type Initial Model Mean reward: 500.0\n",
      "Type Updated Model Mean reward: 500.0\n"
     ]
    }
   ],
   "source": [
    "for i in range(10):\n",
    "    print('Train Iter: ', i)\n",
    "\n",
    "    model_trained.learn(total_timesteps=10_00)\n",
    "\n",
    "    evaluate(model_trained, env, 'Trained Model')\n",
    "    evaluate(model, env, 'Initial Model')\n",
    "\n",
    "    state_dict = model.policy.state_dict()\n",
    "    optim_dict = model_trained.policy.optimizer.param_groups[0]['params']\n",
    "    optim_alpha = model.policy.optimizer.param_groups[0]['alpha']\n",
    "\n",
    "    # print(state_dict['q_net.q_net.0.weight'])\n",
    "\n",
    "    optim_index = 0\n",
    "    for key, value in state_dict.items():\n",
    "        # print(key)\n",
    "        state_dict[key].add_(optim_dict[optim_index], alpha=optim_alpha)\n",
    "        optim_index += 1\n",
    "\n",
    "    model.policy.load_state_dict(state_dict)\n",
    "\n",
    "    evaluate(model, env, 'Updated Model')"
   ]
  },
  {
   "cell_type": "code",
   "execution_count": 8,
   "metadata": {},
   "outputs": [
    {
     "data": {
      "text/plain": [
       "[{'params': [Parameter containing:\n",
       "   tensor([[ 1.0806e+00,  1.0122e+00, -1.6773e+00,  3.2338e+00],\n",
       "           [ 4.0006e+00,  6.7071e-01, -2.7807e+00,  1.7551e+00],\n",
       "           [-2.1527e+00, -1.4294e+00, -1.7218e+00, -2.7186e+00],\n",
       "           [-7.7418e-01, -2.7780e+00, -1.5532e+00, -3.3371e+00],\n",
       "           [ 1.3478e-01,  1.1380e+00, -2.5663e+00, -3.1758e+00],\n",
       "           [-5.0913e-01,  3.4034e-01,  2.2941e-01,  3.0163e+00],\n",
       "           [ 2.4074e-01, -1.6346e+00,  7.1230e-01,  2.1018e-01],\n",
       "           [-1.3023e-01, -8.3644e-02,  2.8941e+00,  1.7126e+00],\n",
       "           [ 4.7333e+00, -1.9284e+00,  2.0422e+00,  1.3843e+00],\n",
       "           [ 2.5615e-01,  1.1294e+00,  2.4390e+00,  2.1649e+00],\n",
       "           [-9.0549e-01, -2.9252e+00, -1.6719e+00, -1.2645e+00],\n",
       "           [-1.4026e+00,  2.3101e+00, -3.3497e+00, -2.3350e+00],\n",
       "           [ 3.2149e+00,  7.7405e-01, -5.2920e-01, -3.0006e+00],\n",
       "           [-9.4652e-01, -1.7432e+00,  5.0262e-01,  1.2102e+00],\n",
       "           [-1.3078e+00,  3.5630e-01, -1.6209e+00, -1.2017e+00],\n",
       "           [ 5.8727e-01, -1.7689e+00,  2.8247e+00, -1.8241e+00],\n",
       "           [ 2.2488e+00, -5.6633e-01, -1.3744e+00,  9.8296e-01],\n",
       "           [-4.0494e-01,  2.3370e+00,  5.2950e-04, -3.5521e+00],\n",
       "           [-2.3130e+00, -6.3937e-01,  6.9574e-02,  1.0122e+00],\n",
       "           [ 1.3647e+00,  1.1522e+00,  1.4400e+00,  2.4472e+00],\n",
       "           [ 4.0057e-01, -1.0749e+00,  1.2047e+00,  3.5600e+00],\n",
       "           [ 2.1587e+00,  4.7308e+00,  3.9646e+00,  5.6015e-01],\n",
       "           [-4.4530e+00,  1.1653e+00,  3.5097e-01,  2.1328e+00],\n",
       "           [-5.1269e-01, -1.8173e+00, -1.8563e+00, -7.0187e-01],\n",
       "           [ 1.6338e-01, -9.8421e-01,  3.5129e+00, -2.0627e-01],\n",
       "           [-5.1510e-01, -6.7099e-01, -2.9948e+00, -2.2902e+00],\n",
       "           [-5.6069e+00, -2.2059e+00,  4.0008e+00,  1.9268e+00],\n",
       "           [ 1.5076e+00,  5.7918e-01,  1.5480e+00,  4.4628e+00],\n",
       "           [ 1.3526e+00, -2.2981e+00, -2.6300e-01,  3.1955e+00],\n",
       "           [-1.9772e+00,  1.2436e+00, -7.1989e-01,  3.0554e+00],\n",
       "           [ 1.5880e+00,  5.6343e-01, -1.9542e+00, -3.6699e+00],\n",
       "           [ 3.4970e-02, -4.4871e-01, -3.4562e+00,  2.5394e+00],\n",
       "           [-9.9160e-01,  2.1449e+00, -9.7935e-01,  1.8365e+00],\n",
       "           [-9.5577e-01, -9.0402e-01,  6.0542e-01, -2.6046e-01],\n",
       "           [ 8.8810e-01, -9.1297e-01, -1.3871e+00,  1.6952e+00],\n",
       "           [-1.6887e+00,  1.7320e+00, -7.3753e-01, -6.9886e-01],\n",
       "           [-2.9816e+00,  5.9942e-01,  2.0256e+00,  1.7916e+00],\n",
       "           [ 2.8828e+00, -4.3871e+00,  2.3626e+00,  1.6451e-01],\n",
       "           [-1.5911e-01,  2.4477e+00,  1.6452e+00,  1.4415e+00],\n",
       "           [ 2.8356e-03,  1.3862e+00,  2.3078e+00, -5.8914e+00],\n",
       "           [ 2.6048e+00, -5.3523e+00,  2.1829e+00,  2.6675e+00],\n",
       "           [-2.4545e+00, -2.7145e+00, -6.3089e-01, -2.9804e-01],\n",
       "           [ 1.0980e+00, -1.7931e+00,  3.8067e-01,  3.1420e+00],\n",
       "           [ 7.7595e-01,  8.9465e-01, -2.0665e+00, -6.0649e+00],\n",
       "           [-3.3368e+00,  1.8809e+00,  2.2622e+00,  2.3931e+00],\n",
       "           [ 1.0719e+00,  2.3598e+00,  6.1038e-01, -3.4413e-01],\n",
       "           [-1.5860e+00,  1.4275e+00, -2.2691e-01,  1.2531e+00],\n",
       "           [ 1.0561e+00,  1.4829e+00,  2.6909e+00,  4.2134e-01],\n",
       "           [-4.3875e-02,  1.4976e+00, -2.0352e+00, -1.0342e+00],\n",
       "           [-2.5277e+00, -7.8563e-01,  3.6523e+00,  2.6184e+00],\n",
       "           [ 1.7131e+00,  1.6849e-01, -3.3954e+00, -1.5189e+00],\n",
       "           [ 6.1945e-02,  6.8998e-01,  2.5863e+00, -1.5648e+00],\n",
       "           [ 6.4286e-02, -1.2481e+00, -3.9565e+00, -3.0531e-01],\n",
       "           [ 1.9935e+00, -3.3651e-03, -7.8870e-02, -9.3193e-01],\n",
       "           [-2.4947e+00,  4.9708e-02, -3.6772e+00, -1.4583e+00],\n",
       "           [ 2.6627e+00,  2.0358e+00, -1.6057e+00,  9.1572e-02],\n",
       "           [-2.2602e+00,  6.5193e-01, -1.6175e+00,  2.8125e+00],\n",
       "           [ 2.6620e+00,  1.3443e+00,  5.9809e-01,  3.4030e+00],\n",
       "           [ 5.7672e-01,  2.2538e+00,  1.9118e+00,  1.8189e-01],\n",
       "           [ 3.1535e+00, -8.8769e-01,  3.0392e+00,  3.3722e+00],\n",
       "           [ 3.6336e-01, -5.2808e+00,  7.8950e-01, -2.7625e+00],\n",
       "           [-5.9879e-01, -5.4633e-01, -1.0166e+00, -2.5968e+00],\n",
       "           [ 6.4360e-01,  7.1544e-01, -3.3640e+00, -5.2997e-01],\n",
       "           [-7.9443e-01,  2.3199e+00,  3.9920e+00,  1.3251e+00]],\n",
       "          requires_grad=True),\n",
       "   Parameter containing:\n",
       "   tensor([ 0.0386,  0.0961,  0.0335,  0.0247,  0.0421,  0.0040, -0.2100,  0.0149,\n",
       "           -0.0144,  0.0258, -0.1974,  0.0795,  0.1339, -0.0974,  0.0302, -0.1028,\n",
       "            0.0825,  0.1053, -0.0611,  0.2663, -0.0534,  0.1024, -0.1014, -0.1464,\n",
       "           -0.0348, -0.0986, -0.1645, -0.0391, -0.0512, -0.0104,  0.0629,  0.0670,\n",
       "            0.2384, -0.1947, -0.0263, -0.0123, -0.0826, -0.1858,  0.0234,  0.0400,\n",
       "           -0.0514, -0.1247,  0.0012,  0.0481, -0.0454,  0.3602,  0.1736,  0.0456,\n",
       "            0.0549, -0.0751,  0.0408,  0.0903, -0.0920,  0.1555, -0.0710,  0.2462,\n",
       "           -0.0936,  0.0434,  0.1717,  0.0177,  0.0071, -0.0676, -0.0140, -0.0065],\n",
       "          requires_grad=True),\n",
       "   Parameter containing:\n",
       "   tensor([[-1.8474,  2.9077,  1.8625,  ...,  0.5601, -4.9102, -2.7221],\n",
       "           [ 2.1039,  0.6491, -0.4779,  ..., -0.3394,  0.3263, -2.8217],\n",
       "           [ 0.2008,  0.6631,  0.8136,  ..., -1.6618,  1.4486,  2.1166],\n",
       "           ...,\n",
       "           [-0.3693, -1.4552, -3.9249,  ...,  1.4728,  1.1612,  0.6673],\n",
       "           [-0.9298, -0.8088, -8.3201,  ...,  0.5763, -1.4109, -0.8544],\n",
       "           [ 1.2759, -1.8673, -2.2226,  ...,  2.8000,  2.6321, -1.4243]],\n",
       "          requires_grad=True),\n",
       "   Parameter containing:\n",
       "   tensor([-0.1397,  0.0578, -0.0786,  0.0882,  0.0809,  0.0177, -0.0055, -0.0168,\n",
       "           -0.0344, -0.0760,  0.0664,  0.0324,  0.0799, -0.0979,  0.2846, -0.1104,\n",
       "            0.0784,  0.0062,  0.0100,  0.0082, -0.0500, -0.0929,  0.0044,  0.1202,\n",
       "           -0.0312, -0.1617,  0.0579, -0.0892, -0.1226, -0.0922, -0.0701,  0.0174,\n",
       "            0.0925, -0.0525,  0.0121,  0.0454, -0.0738, -0.0691,  0.0150, -0.2173,\n",
       "           -0.0014, -0.0992,  0.0425, -0.0378,  0.0621,  0.1219, -0.0292, -0.1349,\n",
       "            0.0192, -0.0471,  0.4893, -0.1502,  0.1021,  0.0884, -0.0744, -0.0249,\n",
       "           -0.0174, -0.0420, -0.1400, -0.1021, -0.0292, -0.0226, -0.0132, -0.0342],\n",
       "          requires_grad=True),\n",
       "   Parameter containing:\n",
       "   tensor([[ 9.6888e-01,  7.2496e-02, -1.4650e+00, -1.5183e+00],\n",
       "           [ 3.1162e+00, -6.8966e-02, -1.9523e+00, -8.3348e-01],\n",
       "           [-1.3453e+00,  3.1302e+00, -2.8685e-01,  2.3309e+00],\n",
       "           [ 3.0014e+00, -1.8597e+00, -1.5306e+00,  8.2201e-01],\n",
       "           [-4.8553e-01,  4.7512e-01,  2.0197e+00,  2.4903e+00],\n",
       "           [-1.1506e+00, -4.4069e-01,  3.6683e+00, -8.5311e-01],\n",
       "           [ 4.5725e+00, -2.0378e+00,  8.6713e-01,  3.7195e-01],\n",
       "           [-3.6422e-01, -2.2497e+00,  3.4766e+00,  1.3494e+00],\n",
       "           [ 2.2234e+00,  1.8478e+00,  7.9106e-01, -3.0895e+00],\n",
       "           [-4.1276e+00, -4.5396e-02, -2.6679e+00,  3.4539e+00],\n",
       "           [-1.6915e-01, -2.7581e+00,  1.6690e+00,  3.2011e+00],\n",
       "           [-1.7561e-01,  2.0333e+00, -1.4641e+00,  1.7664e-03],\n",
       "           [ 1.5179e+00,  1.2391e+00, -1.0484e+00, -1.6275e+00],\n",
       "           [ 1.6978e+00,  2.7771e+00,  2.9796e-01,  3.9384e+00],\n",
       "           [ 1.4001e-01, -6.0769e-01,  8.9295e-01, -1.0133e+00],\n",
       "           [-8.9745e-01,  1.2741e+00, -1.5473e+00, -2.1077e+00],\n",
       "           [ 1.7805e+00,  1.8976e+00, -2.5996e+00,  1.0220e+00],\n",
       "           [ 1.6889e+00,  1.3140e+00,  3.1540e+00,  7.2783e-01],\n",
       "           [ 1.1263e+00, -4.0891e-01,  4.1185e-01,  1.9454e+00],\n",
       "           [-1.0590e+00,  9.1777e-01, -2.1059e+00, -1.0054e+00],\n",
       "           [ 1.0937e+00,  2.8802e+00,  2.3172e+00, -1.9597e+00],\n",
       "           [ 2.0133e+00,  4.0158e-01,  1.6398e+00, -6.0858e-01],\n",
       "           [-1.5604e+00, -6.9164e-01,  1.9520e+00,  1.9262e+00],\n",
       "           [ 2.4611e+00,  2.8262e+00, -6.3598e-01,  2.4349e+00],\n",
       "           [-2.6828e+00, -1.4821e+00,  1.6736e-01, -4.5525e-01],\n",
       "           [ 7.8452e-01, -9.4414e-01,  1.4742e+00, -1.3582e-01],\n",
       "           [-2.7906e+00,  2.1893e+00, -2.1838e+00,  2.2970e+00],\n",
       "           [-2.8971e+00, -1.7333e+00, -3.0567e+00, -3.7407e-01],\n",
       "           [ 1.7680e-01,  1.7956e+00,  2.3903e-01,  2.5030e+00],\n",
       "           [-1.7503e+00, -1.6276e+00,  1.5943e+00, -2.5471e+00],\n",
       "           [-6.4023e-01, -2.6959e+00, -3.5356e+00,  3.7026e+00],\n",
       "           [-2.1604e+00, -5.2964e-01, -5.5396e-01, -2.0133e+00],\n",
       "           [-4.5798e-01, -3.1761e-01,  1.9141e+00, -9.5015e-01],\n",
       "           [ 5.6004e-01, -6.6250e-01,  9.5739e-01,  5.7411e-01],\n",
       "           [ 1.0995e+00, -6.0778e-01, -2.4444e+00, -2.6986e+00],\n",
       "           [-2.6985e+00, -1.3184e+00, -3.2500e+00, -3.0198e-01],\n",
       "           [-8.8668e-01,  9.9269e-02,  2.9871e+00, -1.9108e+00],\n",
       "           [ 6.5373e-02, -1.8175e+00, -2.7425e-01, -2.2587e+00],\n",
       "           [-9.6225e-01, -1.5034e+00, -3.3700e-01,  1.2716e+00],\n",
       "           [ 8.9255e-01,  2.9662e+00, -2.1406e+00,  4.4844e-01],\n",
       "           [-1.2229e-01, -1.4706e-01, -1.5172e-01,  9.6312e-02],\n",
       "           [ 5.4683e-01,  1.0439e+00,  3.6812e+00,  8.6773e-01],\n",
       "           [ 1.6559e+00, -2.9458e+00, -3.2707e+00, -2.2000e+00],\n",
       "           [ 3.4971e+00,  8.2261e-01,  3.0129e+00,  2.3220e+00],\n",
       "           [-5.7602e-01, -2.5847e+00,  3.9900e+00,  3.2550e-01],\n",
       "           [-9.3352e-01,  2.0239e+00, -3.2909e+00, -2.5900e+00],\n",
       "           [ 9.2830e-01, -2.5885e+00,  4.7224e-01,  1.2327e+00],\n",
       "           [ 1.4327e+00,  1.9128e+00,  1.6747e+00,  8.6890e-01],\n",
       "           [-8.0160e-01,  4.8389e-02,  1.5871e+00, -2.9538e+00],\n",
       "           [ 2.9132e+00,  1.1232e+00, -1.8428e+00, -8.2301e-01],\n",
       "           [-4.3342e+00, -1.0786e+00, -2.6369e-01, -6.0499e-01],\n",
       "           [-2.2791e-02,  2.3880e+00,  1.3793e-01,  1.4699e+00],\n",
       "           [-1.4700e+00, -9.7031e-01,  1.7150e-01, -5.3512e-01],\n",
       "           [-2.4821e+00,  1.3342e+00,  3.8142e-01, -1.5751e+00],\n",
       "           [-1.5433e+00,  2.7982e+00,  6.4741e-01, -1.5786e+00],\n",
       "           [-3.3413e+00,  2.5284e+00, -2.2661e+00,  1.9116e+00],\n",
       "           [-7.1143e-01,  5.4243e-01,  8.9011e-01, -2.1343e+00],\n",
       "           [ 4.2692e+00, -1.4308e+00, -3.7751e-02, -5.4154e-01],\n",
       "           [-4.7156e-01, -1.0187e+00,  4.6372e-02, -3.8355e-01],\n",
       "           [-3.3368e+00,  4.0837e+00,  3.5761e+00,  1.4155e+00],\n",
       "           [-1.8687e+00, -2.2488e+00, -6.3009e-01, -9.0799e-01],\n",
       "           [ 1.2088e+00, -1.2128e+00, -2.2207e-01, -4.2212e+00],\n",
       "           [-8.7862e-01,  1.1208e+00,  9.5545e-01,  1.3312e+00],\n",
       "           [ 6.1637e-01,  9.8796e-01, -1.2018e+00,  3.2257e-01]],\n",
       "          requires_grad=True),\n",
       "   Parameter containing:\n",
       "   tensor([-3.4044,  3.7942, -3.5709, -3.7652, -3.4721, -3.8237, -3.7009, -3.4539,\n",
       "           -3.4201,  3.6165,  2.9389, -3.5257, -3.4328,  2.6626,  3.6124,  3.6265,\n",
       "           -3.8761,  3.6159, -3.5689,  3.5612, -3.3600, -3.7655, -3.4178, -3.5132,\n",
       "            3.6572, -3.6056,  3.2860,  3.8121, -3.6653,  3.6477,  3.4219,  3.5177,\n",
       "            3.8170, -3.7683,  3.6750,  3.2891, -3.4386, -3.8127, -3.9139, -3.2434,\n",
       "           -3.6152, -3.3791, -3.3300, -3.6502,  3.2157,  3.4617, -3.4378, -3.6620,\n",
       "            3.5857,  3.8681,  3.7262,  3.4884,  3.7539, -3.6717, -3.4912,  3.6567,\n",
       "           -3.3473, -3.6647, -3.7563, -3.5397,  3.5565, -2.8864,  3.3771, -3.7329],\n",
       "          requires_grad=True),\n",
       "   Parameter containing:\n",
       "   tensor([[ 5.1794, -4.9265,  4.0770,  ..., -0.0727, -3.8297,  0.5493],\n",
       "           [ 2.5351, -3.6049,  4.7486,  ...,  1.8673, -3.9980,  7.4219],\n",
       "           [-0.3382, -5.1097,  0.2619,  ...,  2.5576, -2.1637,  4.5310],\n",
       "           ...,\n",
       "           [-1.6140, -0.2388, -3.8283,  ..., -1.6967,  5.2226, -5.1564],\n",
       "           [ 2.1874, -1.0076,  4.0734,  ..., -1.1019, -3.4101,  3.3598],\n",
       "           [ 6.2975, -2.0096, -0.8591,  ...,  2.1486, -0.7098,  3.8128]],\n",
       "          requires_grad=True),\n",
       "   Parameter containing:\n",
       "   tensor([-2.5111, -1.7346, -2.6735, -3.1080,  2.2413, -2.4168, -2.1995,  2.1582,\n",
       "            2.5280,  2.0777, -2.7173, -2.4311, -2.3979,  2.3116,  2.5823, -2.5639,\n",
       "           -3.1564,  3.0900,  2.3989, -2.0611, -2.4185,  2.2709, -2.8659,  2.6022,\n",
       "           -2.2533, -2.4135, -2.2987, -2.7233,  3.2097,  2.9652, -2.4905, -2.5847,\n",
       "            2.7602,  1.9385,  2.3768,  2.2492,  2.3155, -2.0317, -2.5889,  2.3973,\n",
       "            2.3840, -2.6006, -2.1274, -3.0494,  2.2851,  2.3653, -2.5915,  2.5552,\n",
       "           -2.3915,  2.3305,  2.2498,  2.9021, -2.4945, -2.8537, -2.3274, -1.9972,\n",
       "           -2.3751,  2.7224,  2.6458,  2.6268,  2.0904,  2.3973, -2.4852, -2.1137],\n",
       "          requires_grad=True),\n",
       "   Parameter containing:\n",
       "   tensor([[ 0.2863,  0.6849, -0.3009,  0.5412,  0.4397,  0.9151,  0.8303, -0.8165,\n",
       "            -0.8100, -0.6860,  0.6678,  0.5579, -0.6882, -0.3599,  0.0712,  0.2032,\n",
       "             0.5392, -0.5273,  0.9321,  0.8284, -0.1188, -0.4477, -0.7915,  0.3633,\n",
       "            -0.2903, -0.4719, -0.7848, -0.6074,  0.0325, -0.1783, -0.3219, -0.8024,\n",
       "             0.1297, -0.6621, -0.2006,  0.7102, -0.6651, -0.3619,  0.8235, -0.1803,\n",
       "             0.7669, -0.0905, -0.7082, -0.6379,  0.3850,  0.3363, -0.4819, -0.2643,\n",
       "             0.5528,  0.7218, -0.1262,  0.3376,  0.4769,  0.6367,  0.0466,  0.3567,\n",
       "            -0.8593, -0.6520, -0.2025,  0.4752, -0.7178,  0.8712, -0.6143, -0.7949],\n",
       "           [-0.3135, -0.7342,  0.3011, -0.5675, -0.4297, -0.9142, -0.8420,  0.8144,\n",
       "             0.8090,  0.6725, -0.6742, -0.5530,  0.6947,  0.3932, -0.0632, -0.2075,\n",
       "            -0.5477,  0.5076, -0.9195, -0.8413,  0.0777,  0.4420,  0.7992, -0.3801,\n",
       "             0.2819,  0.4744,  0.7899,  0.5587, -0.0407,  0.1518,  0.3375,  0.7938,\n",
       "            -0.1304,  0.6446,  0.1910, -0.7164,  0.6293,  0.3664, -0.7990,  0.1775,\n",
       "            -0.7591,  0.0927,  0.7165,  0.6679, -0.3906, -0.3570,  0.4804,  0.2759,\n",
       "            -0.5492, -0.7113,  0.1118, -0.3689, -0.4621, -0.5832, -0.0553, -0.3336,\n",
       "             0.8747,  0.6524,  0.2217, -0.4925,  0.6957, -0.8886,  0.5885,  0.7894]],\n",
       "          requires_grad=True),\n",
       "   Parameter containing:\n",
       "   tensor([ 0.0426, -0.0426], requires_grad=True),\n",
       "   Parameter containing:\n",
       "   tensor([[ -9.6655, -11.2242,  -9.3836,  -8.7857,  11.0120,  -9.2117,  -8.5393,\n",
       "             10.5602,   9.5707,  10.7851,  -8.9523,  -9.8886,  -9.7429,   9.4189,\n",
       "              8.8814,  -9.3836,  -8.4939,   8.2400,   9.2607, -12.0032,  -9.6829,\n",
       "              9.2697,  -8.6475,   9.5602, -10.2457, -10.0042, -11.3927,  -8.3993,\n",
       "              8.9176,   8.8215, -10.3229,  -9.1537,   8.7316,  11.2799,   9.6421,\n",
       "             10.4225,   9.7491, -11.2941,  -9.4681,   8.7290,   8.9980,  -9.8688,\n",
       "             -9.9709,  -8.3963,  10.0277,   9.7819,  -9.1444,   9.6041,  -9.2378,\n",
       "             10.1899,   9.6871,   8.8861,  -9.3378,  -8.6654, -10.0735, -11.8262,\n",
       "             -9.2208,   9.3134,   8.7590,   9.1616,  10.3905,   9.4220,  -9.1331,\n",
       "            -10.5905]], requires_grad=True),\n",
       "   Parameter containing:\n",
       "   tensor([7.9219], requires_grad=True)],\n",
       "  'lr': 0.0007,\n",
       "  'momentum': 0,\n",
       "  'alpha': 0.99,\n",
       "  'eps': 1e-05,\n",
       "  'centered': False,\n",
       "  'weight_decay': 0}]"
      ]
     },
     "execution_count": 8,
     "metadata": {},
     "output_type": "execute_result"
    }
   ],
   "source": [
    "model.policy.optimizer.param_groups"
   ]
  }
 ],
 "metadata": {
  "interpreter": {
   "hash": "3fe87c7677a9be80aab770929aa8f3d40850ac08a0f73ec246342c77c48f1c11"
  },
  "kernelspec": {
   "display_name": "Python 3.7.2 64-bit ('pydrl': conda)",
   "name": "python3"
  },
  "language_info": {
   "codemirror_mode": {
    "name": "ipython",
    "version": 3
   },
   "file_extension": ".py",
   "mimetype": "text/x-python",
   "name": "python",
   "nbconvert_exporter": "python",
   "pygments_lexer": "ipython3",
   "version": "3.7.2"
  },
  "orig_nbformat": 4
 },
 "nbformat": 4,
 "nbformat_minor": 2
}
