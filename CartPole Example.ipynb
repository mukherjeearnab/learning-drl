{
 "cells": [
  {
   "cell_type": "markdown",
   "id": "0acbc02f-4388-40d7-a8a0-f768283142c0",
   "metadata": {},
   "source": [
    "## Create Environment, and run a Randomized Test"
   ]
  },
  {
   "cell_type": "code",
   "execution_count": 1,
   "id": "d77abbde-d892-4fe2-8980-e129ccdbe2f4",
   "metadata": {},
   "outputs": [],
   "source": [
    "import gym \n",
    "import random"
   ]
  },
  {
   "cell_type": "code",
   "execution_count": 2,
   "id": "68cb8716-14a1-433e-9114-81df8dfe214e",
   "metadata": {},
   "outputs": [],
   "source": [
    "# Using the CartPole Env\n",
    "env = gym.make('CartPole-v0')\n",
    "\n",
    "# Get the States possible in the environment\n",
    "states = env.observation_space.shape[0]\n",
    "\n",
    "# Get Possible Actions possible in the environment\n",
    "actions = env.action_space.n"
   ]
  },
  {
   "cell_type": "code",
   "execution_count": 3,
   "id": "3374c864-98d7-498f-8f50-deb15bf38015",
   "metadata": {},
   "outputs": [
    {
     "name": "stdout",
     "output_type": "stream",
     "text": [
      "States= 4 and Actions= 2\n"
     ]
    }
   ],
   "source": [
    "# Print Number of States and Actions\n",
    "print('States=', states, 'and Actions=', actions)"
   ]
  },
  {
   "cell_type": "markdown",
   "id": "8fdd95a3-0d67-4f00-97d6-508a11abca41",
   "metadata": {},
   "source": [
    "#### Run the randmised test"
   ]
  },
  {
   "cell_type": "code",
   "execution_count": 4,
   "id": "9ca62224-d32c-47f2-bed9-c48084d0779a",
   "metadata": {},
   "outputs": [
    {
     "name": "stdout",
     "output_type": "stream",
     "text": [
      "Episode:1 Score:11.0\n",
      "Episode:2 Score:26.0\n",
      "Episode:3 Score:48.0\n",
      "Episode:4 Score:20.0\n",
      "Episode:5 Score:31.0\n",
      "Episode:6 Score:18.0\n",
      "Episode:7 Score:26.0\n",
      "Episode:8 Score:17.0\n",
      "Episode:9 Score:41.0\n",
      "Episode:10 Score:17.0\n"
     ]
    }
   ],
   "source": [
    "# Episodes = number of tests\n",
    "episodes = 10\n",
    "\n",
    "for episode in range(1, episodes+1):\n",
    "    # Set current state of the environment\n",
    "    state = env.reset()\n",
    "    \n",
    "    # Set terminating of environment false\n",
    "    done = False\n",
    "    \n",
    "    # Set initial score to 0 \n",
    "    score = 0 \n",
    "    \n",
    "    while not done:\n",
    "        # Render GUI of Test\n",
    "        # env.render()\n",
    "        \n",
    "        # Select a random action\n",
    "        action = random.choice([0,1])\n",
    "        \n",
    "        # Execute the selected action\n",
    "        n_state, reward, done, info = env.step(action)\n",
    "        \n",
    "        # Update score\n",
    "        score+=reward\n",
    "    print('Episode:{} Score:{}'.format(episode, score))"
   ]
  },
  {
   "cell_type": "markdown",
   "id": "087490bb-4fb1-49e9-86e6-5c97a4e64b29",
   "metadata": {},
   "source": [
    "## Create Deep Learning Model "
   ]
  },
  {
   "cell_type": "code",
   "execution_count": null,
   "id": "73708df7-f579-4769-ae7f-b06b0b35b4ad",
   "metadata": {},
   "outputs": [],
   "source": [
    "# Import Libraries\n",
    "import numpy as np\n",
    "from tensorflow.keras.models import Sequential\n",
    "from tensorflow.keras.layers import Dense, Flatten\n",
    "from tensorflow.keras.optimizers import Adam"
   ]
  },
  {
   "cell_type": "code",
   "execution_count": null,
   "id": "493e5e00-d843-4edd-b6d7-b8423559bf16",
   "metadata": {},
   "outputs": [],
   "source": [
    "# Function to build the deep learning model\n",
    "def build_model(states, actions):\n",
    "    model = Sequential()\n",
    "    model.add(Flatten(input_shape=(1,states)))\n",
    "    model.add(Dense(16, activation='relu'))\n",
    "    model.add(Dense(16, activation='relu'))\n",
    "    model.add(Dense(actions, activation='linear'))\n",
    "    return model"
   ]
  },
  {
   "cell_type": "code",
   "execution_count": null,
   "id": "b2a8390e-9b95-41e7-8fad-36c1a5814d8a",
   "metadata": {},
   "outputs": [],
   "source": [
    "# Generate Model\n",
    "model = build_model(states, actions)"
   ]
  },
  {
   "cell_type": "code",
   "execution_count": null,
   "id": "a338b577-f623-46b9-9376-2da292ab00e1",
   "metadata": {},
   "outputs": [],
   "source": [
    "# Print Model Summary\n",
    "model.summary()"
   ]
  },
  {
   "cell_type": "markdown",
   "id": "73cfa6ff-5751-46f4-abf2-c36ff1912eaf",
   "metadata": {},
   "source": [
    "## Build Agent using Keras-RL"
   ]
  },
  {
   "cell_type": "code",
   "execution_count": null,
   "id": "e2478da8-67e9-436b-9fe8-b5816c51099b",
   "metadata": {},
   "outputs": [],
   "source": [
    "# Import Libraries\n",
    "from rl.agents import DQNAgent\n",
    "from rl.policy import BoltzmannQPolicy\n",
    "from rl.memory import SequentialMemory"
   ]
  },
  {
   "cell_type": "code",
   "execution_count": null,
   "id": "6012022d-aaf3-4775-b7c7-c776fe8ec052",
   "metadata": {},
   "outputs": [],
   "source": [
    "# Function to build Agent Object\n",
    "def build_agent(model, actions):\n",
    "    # Set Policy\n",
    "    policy = BoltzmannQPolicy()\n",
    "    \n",
    "    # Set Memory Constraints\n",
    "    memory = SequentialMemory(limit=50000, window_length=1)\n",
    "    \n",
    "    # Set DQN Agent\n",
    "    dqn = DQNAgent(model=model, memory=memory, policy=policy, \n",
    "                  nb_actions=actions, nb_steps_warmup=10, target_model_update=1e-2)\n",
    "    return dqn"
   ]
  },
  {
   "cell_type": "code",
   "execution_count": null,
   "id": "76a81fbe-d02d-4803-b080-4817590f3cf5",
   "metadata": {},
   "outputs": [],
   "source": [
    "# Build Agent using Model, and actions\n",
    "dqn = build_agent(model, actions)\n",
    "\n",
    "# Compile Agent\n",
    "dqn.compile(Adam(lr=1e-3), metrics=['mae'])\n",
    "\n",
    "# Train-fit Agent\n",
    "dqn.fit(env, nb_steps=50000, visualize=False, verbose=1)"
   ]
  },
  {
   "cell_type": "markdown",
   "id": "cb5eccc2-a6bb-4ff0-906b-2fb5cb2d2dc9",
   "metadata": {},
   "source": [
    "#### Test DQN Agent"
   ]
  },
  {
   "cell_type": "code",
   "execution_count": null,
   "id": "49bdadcb-1e8c-4f0f-b2b1-0c4ec3c30ec7",
   "metadata": {},
   "outputs": [],
   "source": [
    "# Run Test for 100 episodes\n",
    "scores = dqn.test(env, nb_episodes=100, visualize=False)\n",
    "\n",
    "# Print the scores\n",
    "print(np.mean(scores.history['episode_reward']))"
   ]
  },
  {
   "cell_type": "markdown",
   "id": "d936b8eb-e9c4-42ca-89f3-7c5f656c3122",
   "metadata": {},
   "source": [
    "#### Save Agent"
   ]
  },
  {
   "cell_type": "code",
   "execution_count": null,
   "id": "ec4e607d-adbb-4cff-8ff6-d93ca0aaf0b3",
   "metadata": {},
   "outputs": [],
   "source": [
    "dqn.save_weights('dqn_weights.h5f', overwrite=True)"
   ]
  },
  {
   "cell_type": "markdown",
   "id": "bff6d980-cb86-49c4-b3ce-a12895b08f8f",
   "metadata": {},
   "source": [
    "#### Reload Agent from File"
   ]
  },
  {
   "cell_type": "code",
   "execution_count": null,
   "id": "76557953-8112-459c-97d7-36d7352c569a",
   "metadata": {},
   "outputs": [],
   "source": [
    "# Remove OLD components\n",
    "del model\n",
    "del dqn\n",
    "del env"
   ]
  },
  {
   "cell_type": "code",
   "execution_count": null,
   "id": "785cddd3-2113-48b6-a2dd-ba4c880786db",
   "metadata": {},
   "outputs": [],
   "source": [
    "# Init NEW components\n",
    "env = gym.make('CartPole-v0')\n",
    "actions = env.action_space.n\n",
    "states = env.observation_space.shape[0]\n",
    "model = build_model(states, actions)\n",
    "dqn = build_agent(model, actions)\n",
    "dqn.compile(Adam(lr=1e-3), metrics=['mae'])"
   ]
  },
  {
   "cell_type": "code",
   "execution_count": null,
   "id": "5122753e-44a1-4903-8dc2-7b3f438606d5",
   "metadata": {},
   "outputs": [],
   "source": [
    "# Load Weights\n",
    "dqn.load_weights('dqn_weights.h5f')"
   ]
  },
  {
   "cell_type": "code",
   "execution_count": null,
   "id": "6b0c865b-f7e9-4f2e-a86b-3b153713acca",
   "metadata": {},
   "outputs": [],
   "source": [
    "# Run Test for 5 episodes\n",
    "_ = dqn.test(env, nb_episodes=5, visualize=True)"
   ]
  }
 ],
 "metadata": {
  "kernelspec": {
   "display_name": "Python 3 (ipykernel)",
   "language": "python",
   "name": "python3"
  },
  "language_info": {
   "codemirror_mode": {
    "name": "ipython",
    "version": 3
   },
   "file_extension": ".py",
   "mimetype": "text/x-python",
   "name": "python",
   "nbconvert_exporter": "python",
   "pygments_lexer": "ipython3",
   "version": "3.7.2"
  }
 },
 "nbformat": 4,
 "nbformat_minor": 5
}
