{
 "cells": [
  {
   "cell_type": "markdown",
   "metadata": {},
   "source": [
    "# Multi Train Gradient Update"
   ]
  },
  {
   "cell_type": "markdown",
   "metadata": {},
   "source": [
    "## Importing Libraries"
   ]
  },
  {
   "cell_type": "code",
   "execution_count": 1,
   "metadata": {},
   "outputs": [
    {
     "name": "stderr",
     "output_type": "stream",
     "text": [
      "/home/arnab/.miniconda3/envs/pydrl/lib/python3.7/site-packages/ale_py/roms/utils.py:90: DeprecationWarning: SelectableGroups dict interface is deprecated. Use select.\n",
      "  for external in metadata.entry_points().get(self.group, []):\n"
     ]
    }
   ],
   "source": [
    "from typing import Dict\n",
    "import threading\n",
    "\n",
    "import gym\n",
    "import numpy as np\n",
    "import torch\n",
    "\n",
    "from stable_baselines3 import PPO as ALGO\n",
    "from stable_baselines3.common.evaluation import evaluate_policy"
   ]
  },
  {
   "cell_type": "code",
   "execution_count": 2,
   "metadata": {},
   "outputs": [],
   "source": [
    "# Hyper-Parameters\n",
    "NUM_CLIENT_MODELS = 2\n",
    "NUM_TRAINING_STEPS = 10_0\n",
    "NUM_ITERATIONS = 40\n",
    "ENV_NAME = 'CartPole-v1'\n"
   ]
  },
  {
   "cell_type": "markdown",
   "metadata": {},
   "source": [
    "## Init. ENV and Model"
   ]
  },
  {
   "cell_type": "code",
   "execution_count": 3,
   "metadata": {},
   "outputs": [],
   "source": [
    "env = gym.make(ENV_NAME)\n",
    "global_model = ALGO(\n",
    "    \"MlpPolicy\",\n",
    "    env\n",
    ")\n",
    "\n",
    "client_models = [ALGO(\"MlpPolicy\", gym.make(ENV_NAME)) for i in range(NUM_CLIENT_MODELS)]"
   ]
  },
  {
   "cell_type": "markdown",
   "metadata": {},
   "source": [
    "## Functions to Evaluate Model and Train Model within Thread"
   ]
  },
  {
   "cell_type": "code",
   "execution_count": 4,
   "metadata": {},
   "outputs": [],
   "source": [
    "def evaluate(model, env, message = '', verbose = 0):\n",
    "    fitnesses = []\n",
    "    iterations = 2\n",
    "    for i in range(iterations):\n",
    "        fitness, _ = evaluate_policy(model, env)\n",
    "        if verbose == 1:\n",
    "            print(i, fitness, end=\" \")\n",
    "        fitnesses.append(fitness)\n",
    "\n",
    "    mean_fitness = np.mean(sorted(fitnesses))\n",
    "    print(f'Type {message} Mean reward: {mean_fitness}')"
   ]
  },
  {
   "cell_type": "code",
   "execution_count": 5,
   "metadata": {},
   "outputs": [],
   "source": [
    "def train(model, timesteps):\n",
    "    # print('Starting Training')\n",
    "    model.learn(total_timesteps=timesteps)\n",
    "    # print('Completed Training')"
   ]
  },
  {
   "cell_type": "code",
   "execution_count": 6,
   "metadata": {},
   "outputs": [],
   "source": [
    "def multithread_eval(client_models):\n",
    "    # Create Threads\n",
    "    client_threads = [] \n",
    "    for ci in range(NUM_CLIENT_MODELS):\n",
    "        thread = threading.Thread(target=evaluate, args=(client_models[ci], gym.make(ENV_NAME), f'Trained Model {ci}'))\n",
    "        client_threads.append(thread)\n",
    "\n",
    "    # Start Threads\n",
    "    for thread in client_threads:\n",
    "        thread.start()\n",
    "\n",
    "    # Join Threads (wait until thread is completely executed)\n",
    "    for thread in client_threads:\n",
    "        thread.join()"
   ]
  },
  {
   "cell_type": "markdown",
   "metadata": {},
   "source": [
    "## Initial Evaluation"
   ]
  },
  {
   "cell_type": "code",
   "execution_count": 7,
   "metadata": {},
   "outputs": [
    {
     "name": "stderr",
     "output_type": "stream",
     "text": [
      "/home/arnab/.miniconda3/envs/pydrl/lib/python3.7/site-packages/stable_baselines3/common/evaluation.py:69: UserWarning: Evaluation environment is not wrapped with a ``Monitor`` wrapper. This may result in reporting modified episode lengths and rewards, if other wrappers happen to modify these. Consider wrapping environment first with ``Monitor`` wrapper.\n",
      "  UserWarning,\n"
     ]
    },
    {
     "name": "stdout",
     "output_type": "stream",
     "text": [
      "Type  Mean reward: 9.6\n",
      "Type Trained Model 0 Mean reward: 9.350000000000001\n",
      "Type Trained Model 1 Mean reward: 9.6\n"
     ]
    }
   ],
   "source": [
    "for model in client_models:\n",
    "    model.set_parameters(global_model.get_parameters())\n",
    "\n",
    "evaluate(global_model, env)\n",
    "\n",
    "multithread_eval(client_models)"
   ]
  },
  {
   "cell_type": "markdown",
   "metadata": {},
   "source": [
    "## Train for 1K Steps and Evaluate"
   ]
  },
  {
   "cell_type": "code",
   "execution_count": 8,
   "metadata": {},
   "outputs": [
    {
     "name": "stdout",
     "output_type": "stream",
     "text": [
      "Type  Mean reward: 9.5\n",
      "Type Trained Model 0 Mean reward: 76.55000000000001\n",
      "Type Trained Model 1 Mean reward: 189.25\n"
     ]
    }
   ],
   "source": [
    "# Create Threads\n",
    "client_threads = [] \n",
    "for i in range(NUM_CLIENT_MODELS):\n",
    "    thread = threading.Thread(target=train, args=(client_models[i], NUM_TRAINING_STEPS))\n",
    "    client_threads.append(thread)\n",
    "\n",
    "\n",
    "# Start Threads\n",
    "for thread in client_threads:\n",
    "    thread.start()\n",
    "\n",
    "# Join Threads (wait until thread is completely executed)\n",
    "for thread in client_threads:\n",
    "    thread.join()\n",
    "\n",
    "evaluate(global_model, env)\n",
    "\n",
    "multithread_eval(client_models)"
   ]
  },
  {
   "cell_type": "markdown",
   "metadata": {},
   "source": [
    "## Apply Gradient and Evaluate"
   ]
  },
  {
   "cell_type": "code",
   "execution_count": 9,
   "metadata": {},
   "outputs": [
    {
     "name": "stdout",
     "output_type": "stream",
     "text": [
      "Type  Mean reward: 126.75\n"
     ]
    }
   ],
   "source": [
    "global_dict = global_model.policy.state_dict()\n",
    "\n",
    "# Accumulate Client Parameters / Weights\n",
    "for k in global_dict.keys():\n",
    "    global_dict[k] = torch.stack([client_models[i].policy.state_dict()[k].float() for i in range(len(client_models))], 0).mean(0)\n",
    "\n",
    "# Load New Parameters to Global Model\n",
    "global_model.policy.load_state_dict(global_dict)\n",
    "\n",
    "# Load New Parameters to clients\n",
    "for model in client_models:\n",
    "    model.policy.load_state_dict(global_model.policy.state_dict())\n",
    "\n",
    "evaluate(global_model, env)"
   ]
  },
  {
   "cell_type": "code",
   "execution_count": 10,
   "metadata": {},
   "outputs": [
    {
     "name": "stdout",
     "output_type": "stream",
     "text": [
      "Type Global Initial Model Mean reward: 146.35000000000002\n",
      "Train Iter:  0\n",
      "Type Trained Model 1 Mean reward: 340.55\n",
      "Type Trained Model 0 Mean reward: 426.95\n",
      "Type Global Updated Model Mean reward: 431.75\n",
      "Train Iter:  1\n",
      "Type Trained Model 0 Mean reward: 259.79999999999995\n",
      "Type Trained Model 1 Mean reward: 393.55\n",
      "Type Global Updated Model Mean reward: 404.04999999999995\n",
      "Train Iter:  2\n",
      "Type Trained Model 0 Mean reward: 353.8\n",
      "Type Trained Model 1 Mean reward: 417.3\n",
      "Type Global Updated Model Mean reward: 420.70000000000005\n",
      "Train Iter:  3\n",
      "Type Trained Model 1 Mean reward: 420.2\n",
      "Type Trained Model 0 Mean reward: 433.0\n",
      "Type Global Updated Model Mean reward: 437.95\n",
      "Train Iter:  4\n",
      "Type Trained Model 1 Mean reward: 447.29999999999995\n",
      "Type Trained Model 0 Mean reward: 453.55\n",
      "Type Global Updated Model Mean reward: 445.54999999999995\n",
      "Train Iter:  5\n",
      "Type Trained Model 0 Mean reward: 437.85\n",
      "Type Trained Model 1 Mean reward: 488.2\n",
      "Type Global Updated Model Mean reward: 476.2\n",
      "Train Iter:  6\n",
      "Type Trained Model 1 Mean reward: 404.4\n",
      "Type Trained Model 0 Mean reward: 490.2\n",
      "Type Global Updated Model Mean reward: 461.75\n",
      "Train Iter:  7\n",
      "Type Trained Model 1 Mean reward: 493.95\n",
      "Type Trained Model 0 Mean reward: 500.0\n",
      "Type Global Updated Model Mean reward: 500.0\n",
      "Train Iter:  8\n",
      "Type Trained Model 1 Mean reward: 469.15\n",
      "Type Trained Model 0 Mean reward: 500.0\n",
      "Type Global Updated Model Mean reward: 500.0\n",
      "Train Iter:  9\n"
     ]
    }
   ],
   "source": [
    "# Evaluation Before Iterated Training\n",
    "evaluate(global_model, env, \"Global Initial Model\")\n",
    "\n",
    "for i in range(NUM_ITERATIONS):\n",
    "    print('Train Iter: ', i)\n",
    "\n",
    "    # Create Threads\n",
    "    client_threads = [] \n",
    "    for ci in range(NUM_CLIENT_MODELS):\n",
    "        thread = threading.Thread(target=train, args=(client_models[ci], NUM_TRAINING_STEPS))\n",
    "        client_threads.append(thread)\n",
    "\n",
    "\n",
    "    # Start Threads\n",
    "    for thread in client_threads:\n",
    "        thread.start()\n",
    "\n",
    "    # Join Threads (wait until thread is completely executed)\n",
    "    for thread in client_threads:\n",
    "        thread.join()\n",
    "\n",
    "    # Evaluation after Training\n",
    "    multithread_eval(client_models)\n",
    "\n",
    "    # Accumulate Client Parameters / Weights\n",
    "    global_dict = global_model.policy.state_dict()\n",
    "    for k in global_dict.keys():\n",
    "        global_dict[k] = torch.stack([client_models[i].policy.state_dict()[k].float() for i in range(len(client_models))], 0).mean(0)\n",
    "\n",
    "    # Load New Parameters to Global Model\n",
    "    global_model.policy.load_state_dict(global_dict)\n",
    "\n",
    "    # Load New Parameters to clients\n",
    "    for model in client_models:\n",
    "        model.policy.load_state_dict(global_model.policy.state_dict())\n",
    "\n",
    "    # Evaluate Updated Global Model\n",
    "    evaluate(model, env, 'Global Updated Model', verbose=0)"
   ]
  },
  {
   "cell_type": "code",
   "execution_count": null,
   "metadata": {},
   "outputs": [],
   "source": [
    "global_model.get_parameters()"
   ]
  },
  {
   "cell_type": "code",
   "execution_count": null,
   "metadata": {},
   "outputs": [],
   "source": [
    "global_model.save('a2c_lunar_multiproc')"
   ]
  },
  {
   "cell_type": "code",
   "execution_count": null,
   "metadata": {},
   "outputs": [],
   "source": [
    "# Exporting Params as JSON\n",
    "## Function to Convert Params Dict to Flattened List\n",
    "def flatten_list(params):\n",
    "    \"\"\"\n",
    "    :param params: (dict)\n",
    "    :return: (np.ndarray)\n",
    "    \"\"\"\n",
    "    params_ = {}\n",
    "    for key in params.keys():\n",
    "        params_[key] = params[key].tolist()\n",
    "    return params_\n",
    "## Write Parameters to JSON File\n",
    "import json\n",
    "\n",
    "all_params = global_model.get_parameters()\n",
    "pol_params = flatten_list(all_params['policy'])\n",
    "\n",
    "all_params['policy'] = pol_params\n",
    "\n",
    "with open('a2c_lunar_multiproc.json', 'w') as f:\n",
    "    json.dump(all_params, f, indent='\\t')"
   ]
  },
  {
   "cell_type": "code",
   "execution_count": null,
   "metadata": {},
   "outputs": [],
   "source": [
    "# model_loaded = ALGO(\n",
    "#     \"MlpPolicy\",\n",
    "#     env\n",
    "# )\n",
    "\n",
    "# evaluate(model_loaded,env, verbose=1)\n",
    "\n",
    "# import json\n",
    "# with open('a2c_lunar_multiproc.json', 'w') as f:\n",
    "#     new_params = json.load(f)\n",
    "\n",
    "# loaded_pol_params = new_params['policy']\n",
    "# for key in loaded_pol_params.keys():\n",
    "#     loaded_pol_params[key] = th.tensor(loaded_pol_params[key])\n",
    "\n",
    "# new_params['policy'] = loaded_pol_params\n",
    "\n",
    "# model_loaded.set_parameters(new_params)\n",
    "\n",
    "model_loaded = ALGO.load('a2c_lunar_multiproc', env)"
   ]
  },
  {
   "cell_type": "code",
   "execution_count": null,
   "metadata": {},
   "outputs": [],
   "source": [
    "env.reset()\n",
    "evaluate(model_loaded,env, verbose=1)"
   ]
  }
 ],
 "metadata": {
  "interpreter": {
   "hash": "3fe87c7677a9be80aab770929aa8f3d40850ac08a0f73ec246342c77c48f1c11"
  },
  "kernelspec": {
   "display_name": "Python 3.7.2 64-bit ('pydrl': conda)",
   "name": "python3"
  },
  "language_info": {
   "codemirror_mode": {
    "name": "ipython",
    "version": 3
   },
   "file_extension": ".py",
   "mimetype": "text/x-python",
   "name": "python",
   "nbconvert_exporter": "python",
   "pygments_lexer": "ipython3",
   "version": "3.7.2"
  },
  "orig_nbformat": 4
 },
 "nbformat": 4,
 "nbformat_minor": 2
}
