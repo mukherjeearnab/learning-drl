{
 "cells": [
  {
   "cell_type": "markdown",
   "metadata": {},
   "source": [
    "# Multi Train Gradient Update"
   ]
  },
  {
   "cell_type": "markdown",
   "metadata": {},
   "source": [
    "## Importing Libraries"
   ]
  },
  {
   "cell_type": "code",
   "execution_count": 1,
   "metadata": {},
   "outputs": [],
   "source": [
    "from typing import Dict\n",
    "import threading\n",
    "\n",
    "import gym\n",
    "import numpy as np\n",
    "import torch\n",
    "\n",
    "from stable_baselines3 import A2C as ALGO\n",
    "from stable_baselines3.common.evaluation import evaluate_policy"
   ]
  },
  {
   "cell_type": "code",
   "execution_count": 2,
   "metadata": {},
   "outputs": [],
   "source": [
    "# Hyper-Parameters\n",
    "NUM_CLIENT_MODELS = 4\n",
    "NUM_TRAINING_STEPS = 10_000\n",
    "NUM_ITERATIONS = 20"
   ]
  },
  {
   "cell_type": "markdown",
   "metadata": {},
   "source": [
    "## Init. ENV and Model"
   ]
  },
  {
   "cell_type": "code",
   "execution_count": 3,
   "metadata": {},
   "outputs": [],
   "source": [
    "env = gym.make('LunarLander-v2')\n",
    "global_model = ALGO(\n",
    "    \"MlpPolicy\",\n",
    "    env\n",
    ")\n",
    "\n",
    "client_models = [ALGO(\"MlpPolicy\", gym.make('LunarLander-v2')) for i in range(NUM_CLIENT_MODELS)]"
   ]
  },
  {
   "cell_type": "markdown",
   "metadata": {},
   "source": [
    "## Functions to Evaluate Model and Train Model within Thread"
   ]
  },
  {
   "cell_type": "code",
   "execution_count": 4,
   "metadata": {},
   "outputs": [],
   "source": [
    "def evaluate(model, env, message = '', verbose = 0):\n",
    "    fitnesses = []\n",
    "    iterations = 2\n",
    "    for i in range(iterations):\n",
    "        fitness, _ = evaluate_policy(model, env)\n",
    "        if verbose == 1:\n",
    "            print(i, fitness, end=\" \")\n",
    "        fitnesses.append(fitness)\n",
    "\n",
    "    mean_fitness = np.mean(sorted(fitnesses))\n",
    "    print(f'Type {message} Mean reward: {mean_fitness}')"
   ]
  },
  {
   "cell_type": "code",
   "execution_count": 5,
   "metadata": {},
   "outputs": [],
   "source": [
    "def train(model, timesteps):\n",
    "    # print('Starting Training')\n",
    "    model.learn(total_timesteps=timesteps)\n",
    "    # print('Completed Training')"
   ]
  },
  {
   "cell_type": "code",
   "execution_count": 6,
   "metadata": {},
   "outputs": [],
   "source": [
    "def multithread_eval(client_models):\n",
    "    # Create Threads\n",
    "    client_threads = [] \n",
    "    for ci in range(NUM_CLIENT_MODELS):\n",
    "        thread = threading.Thread(target=evaluate, args=(client_models[ci], gym.make('LunarLander-v2'), f'Trained Model {ci}'))\n",
    "        client_threads.append(thread)\n",
    "\n",
    "    # Start Threads\n",
    "    for thread in client_threads:\n",
    "        thread.start()\n",
    "\n",
    "    # Join Threads (wait until thread is completely executed)\n",
    "    for thread in client_threads:\n",
    "        thread.join()"
   ]
  },
  {
   "cell_type": "markdown",
   "metadata": {},
   "source": [
    "## Initial Evaluation"
   ]
  },
  {
   "cell_type": "code",
   "execution_count": 7,
   "metadata": {},
   "outputs": [
    {
     "name": "stderr",
     "output_type": "stream",
     "text": [
      "/home/arnab/.miniconda3/envs/pydrl/lib/python3.7/site-packages/stable_baselines3/common/evaluation.py:69: UserWarning: Evaluation environment is not wrapped with a ``Monitor`` wrapper. This may result in reporting modified episode lengths and rewards, if other wrappers happen to modify these. Consider wrapping environment first with ``Monitor`` wrapper.\n",
      "  UserWarning,\n"
     ]
    },
    {
     "name": "stdout",
     "output_type": "stream",
     "text": [
      "Type  Mean reward: -170.7555195014691\n",
      "Type Trained Model 2 Mean reward: -195.75888610319234\n",
      "Type Trained Model 0 Mean reward: -176.33689760706477\n",
      "Type Trained Model 1 Mean reward: -170.7728672792611\n",
      "Type Trained Model 3 Mean reward: -180.48728964711484\n"
     ]
    }
   ],
   "source": [
    "for model in client_models:\n",
    "    model.set_parameters(global_model.get_parameters())\n",
    "\n",
    "evaluate(global_model, env)\n",
    "\n",
    "multithread_eval(client_models)"
   ]
  },
  {
   "cell_type": "markdown",
   "metadata": {},
   "source": [
    "## Train for 1K Steps and Evaluate"
   ]
  },
  {
   "cell_type": "code",
   "execution_count": 8,
   "metadata": {},
   "outputs": [
    {
     "name": "stdout",
     "output_type": "stream",
     "text": [
      "Type  Mean reward: -194.49836501653772\n",
      "Type Trained Model 1 Mean reward: -1257.6691671129474\n",
      "Type Trained Model 3 Mean reward: -1360.4179258234683\n",
      "Type Trained Model 0 Mean reward: -530.6431263065708\n",
      "Type Trained Model 2 Mean reward: -162.11165425160002\n"
     ]
    }
   ],
   "source": [
    "# Create Threads\n",
    "client_threads = [] \n",
    "for i in range(NUM_CLIENT_MODELS):\n",
    "    thread = threading.Thread(target=train, args=(client_models[i], NUM_TRAINING_STEPS))\n",
    "    client_threads.append(thread)\n",
    "\n",
    "\n",
    "# Start Threads\n",
    "for thread in client_threads:\n",
    "    thread.start()\n",
    "\n",
    "# Join Threads (wait until thread is completely executed)\n",
    "for thread in client_threads:\n",
    "    thread.join()\n",
    "\n",
    "evaluate(global_model, env)\n",
    "\n",
    "multithread_eval(client_models)"
   ]
  },
  {
   "cell_type": "markdown",
   "metadata": {},
   "source": [
    "## Apply Gradient and Evaluate"
   ]
  },
  {
   "cell_type": "code",
   "execution_count": 9,
   "metadata": {},
   "outputs": [
    {
     "name": "stdout",
     "output_type": "stream",
     "text": [
      "Type  Mean reward: -1261.2836471513933\n"
     ]
    }
   ],
   "source": [
    "global_dict = global_model.policy.state_dict()\n",
    "\n",
    "# Accumulate Client Parameters / Weights\n",
    "for k in global_dict.keys():\n",
    "    global_dict[k] = torch.stack([client_models[i].policy.state_dict()[k].float() for i in range(len(client_models))], 0).mean(0)\n",
    "\n",
    "# Load New Parameters to Global Model\n",
    "global_model.policy.load_state_dict(global_dict)\n",
    "\n",
    "# Load New Parameters to clients\n",
    "for model in client_models:\n",
    "    model.policy.load_state_dict(global_model.policy.state_dict())\n",
    "\n",
    "evaluate(global_model, env)"
   ]
  },
  {
   "cell_type": "code",
   "execution_count": 10,
   "metadata": {},
   "outputs": [
    {
     "name": "stdout",
     "output_type": "stream",
     "text": [
      "Type Global Initial Model Mean reward: -1585.0298621644492\n",
      "Train Iter:  0\n",
      "Type Trained Model 1 Mean reward: 9.783615995752186\n",
      "Type Trained Model 2 Mean reward: 7.172871700389765\n",
      "Type Trained Model 0 Mean reward: 8.924871989531255\n",
      "Type Trained Model 3 Mean reward: -541.0194110805937\n",
      "Type Global Updated Model Mean reward: -26.735970800361706\n",
      "Train Iter:  1\n",
      "Type Trained Model 2 Mean reward: 39.90042912357197\n",
      "Type Trained Model 3 Mean reward: 55.045360168688944\n",
      "Type Trained Model 1 Mean reward: -8.373480139860334\n",
      "Type Trained Model 0 Mean reward: -65.30552358595386\n",
      "Type Global Updated Model Mean reward: 31.989291449878152\n",
      "Train Iter:  2\n",
      "Type Trained Model 2 Mean reward: -23.719400690777164\n",
      "Type Trained Model 3 Mean reward: 8.620851964674621\n",
      "Type Trained Model 1 Mean reward: 50.596206985192076\n",
      "Type Trained Model 0 Mean reward: 83.13223918206168\n",
      "Type Global Updated Model Mean reward: 57.89960040549008\n",
      "Train Iter:  3\n",
      "Type Trained Model 2 Mean reward: 54.142296447671\n",
      "Type Trained Model 0 Mean reward: 1.2892352033684928\n",
      "Type Trained Model 3 Mean reward: -2.6110136460546176\n",
      "Type Trained Model 1 Mean reward: -29.891857487984463\n",
      "Type Global Updated Model Mean reward: -29.169482472207427\n",
      "Train Iter:  4\n",
      "Type Trained Model 1 Mean reward: 17.20524571731078\n",
      "Type Trained Model 0 Mean reward: 88.19151782713223\n",
      "Type Trained Model 2 Mean reward: -62.13460054588043\n",
      "Type Trained Model 3 Mean reward: -49.34516869747924\n",
      "Type Global Updated Model Mean reward: 35.365777771370375\n",
      "Train Iter:  5\n",
      "Type Trained Model 0 Mean reward: 44.98736940516766\n",
      "Type Trained Model 3 Mean reward: -32.283879447659444\n",
      "Type Trained Model 2 Mean reward: 30.838107716179174\n",
      "Type Trained Model 1 Mean reward: 31.490767013231295\n",
      "Type Global Updated Model Mean reward: -25.788347562539126\n",
      "Train Iter:  6\n",
      "Type Trained Model 3 Mean reward: 149.6775146671902\n",
      "Type Trained Model 2 Mean reward: 167.50830548410494\n",
      "Type Trained Model 1 Mean reward: 29.424784500452674\n",
      "Type Trained Model 0 Mean reward: -48.15869127082152\n",
      "Type Global Updated Model Mean reward: 73.04327359235954\n",
      "Train Iter:  7\n",
      "Type Trained Model 0 Mean reward: 181.7130424624636\n",
      "Type Trained Model 3 Mean reward: 200.31716723967577\n",
      "Type Trained Model 1 Mean reward: 187.7263933361448\n",
      "Type Trained Model 2 Mean reward: 171.6130062600089\n",
      "Type Global Updated Model Mean reward: 166.8986762035926\n",
      "Train Iter:  8\n",
      "Type Trained Model 1 Mean reward: 41.55485666124343\n",
      "Type Trained Model 3 Mean reward: 69.47433584507314\n",
      "Type Trained Model 0 Mean reward: 125.11996065496848\n",
      "Type Trained Model 2 Mean reward: 127.00991127120759\n",
      "Type Global Updated Model Mean reward: 162.8011611052004\n",
      "Train Iter:  9\n",
      "Type Trained Model 2 Mean reward: 37.91212022528178\n",
      "Type Trained Model 0 Mean reward: 12.588427677200634\n",
      "Type Trained Model 3 Mean reward: 75.58797787486465\n",
      "Type Trained Model 1 Mean reward: 46.8252219192872\n",
      "Type Global Updated Model Mean reward: 62.88851745652603\n",
      "Train Iter:  10\n",
      "Type Trained Model 0 Mean reward: -9.934169976464181\n",
      "Type Trained Model 2 Mean reward: 19.514818653649446\n",
      "Type Trained Model 3 Mean reward: -58.57759233977849\n",
      "Type Trained Model 1 Mean reward: -201.41751272843467\n",
      "Type Global Updated Model Mean reward: 71.51165409799695\n",
      "Train Iter:  11\n"
     ]
    }
   ],
   "source": [
    "# Evaluation Before Iterated Training\n",
    "evaluate(global_model, env, \"Global Initial Model\")\n",
    "\n",
    "for i in range(NUM_ITERATIONS):\n",
    "    print('Train Iter: ', i)\n",
    "\n",
    "    # Create Threads\n",
    "    client_threads = [] \n",
    "    for ci in range(NUM_CLIENT_MODELS):\n",
    "        thread = threading.Thread(target=train, args=(client_models[ci], NUM_TRAINING_STEPS))\n",
    "        client_threads.append(thread)\n",
    "\n",
    "\n",
    "    # Start Threads\n",
    "    for thread in client_threads:\n",
    "        thread.start()\n",
    "\n",
    "    # Join Threads (wait until thread is completely executed)\n",
    "    for thread in client_threads:\n",
    "        thread.join()\n",
    "\n",
    "    # Evaluation after Training\n",
    "    multithread_eval(client_models)\n",
    "\n",
    "    # Accumulate Client Parameters / Weights\n",
    "    global_dict = global_model.policy.state_dict()\n",
    "    for k in global_dict.keys():\n",
    "        global_dict[k] = torch.stack([client_models[i].policy.state_dict()[k].float() for i in range(len(client_models))], 0).mean(0)\n",
    "\n",
    "    # Load New Parameters to Global Model\n",
    "    global_model.policy.load_state_dict(global_dict)\n",
    "\n",
    "    # Load New Parameters to clients\n",
    "    for model in client_models:\n",
    "        model.policy.load_state_dict(global_model.policy.state_dict())\n",
    "\n",
    "    # Evaluate Updated Global Model\n",
    "    evaluate(model, env, 'Global Updated Model', verbose=0)"
   ]
  },
  {
   "cell_type": "code",
   "execution_count": null,
   "metadata": {},
   "outputs": [],
   "source": [
    "global_model.get_parameters()"
   ]
  },
  {
   "cell_type": "code",
   "execution_count": null,
   "metadata": {},
   "outputs": [],
   "source": [
    "global_model.save('a2c_lunar_multiproc')"
   ]
  },
  {
   "cell_type": "code",
   "execution_count": null,
   "metadata": {},
   "outputs": [],
   "source": [
    "# Exporting Params as JSON\n",
    "## Function to Convert Params Dict to Flattened List\n",
    "def flatten_list(params):\n",
    "    \"\"\"\n",
    "    :param params: (dict)\n",
    "    :return: (np.ndarray)\n",
    "    \"\"\"\n",
    "    params_ = {}\n",
    "    for key in params.keys():\n",
    "        params_[key] = params[key].tolist()\n",
    "    return params_\n",
    "## Write Parameters to JSON File\n",
    "import json\n",
    "\n",
    "all_params = global_model.get_parameters()\n",
    "pol_params = flatten_list(all_params['policy'])\n",
    "\n",
    "all_params['policy'] = pol_params\n",
    "\n",
    "with open('a2c_lunar_multiproc.json', 'w') as f:\n",
    "    json.dump(all_params, f, indent='\\t')"
   ]
  },
  {
   "cell_type": "code",
   "execution_count": null,
   "metadata": {},
   "outputs": [],
   "source": [
    "# model_loaded = ALGO(\n",
    "#     \"MlpPolicy\",\n",
    "#     env\n",
    "# )\n",
    "\n",
    "# evaluate(model_loaded,env, verbose=1)\n",
    "\n",
    "# import json\n",
    "# with open('a2c_lunar_multiproc.json', 'w') as f:\n",
    "#     new_params = json.load(f)\n",
    "\n",
    "# loaded_pol_params = new_params['policy']\n",
    "# for key in loaded_pol_params.keys():\n",
    "#     loaded_pol_params[key] = th.tensor(loaded_pol_params[key])\n",
    "\n",
    "# new_params['policy'] = loaded_pol_params\n",
    "\n",
    "# model_loaded.set_parameters(new_params)\n",
    "\n",
    "model_loaded = ALGO.load('a2c_lunar_multiproc', env)"
   ]
  },
  {
   "cell_type": "code",
   "execution_count": null,
   "metadata": {},
   "outputs": [],
   "source": [
    "env.reset()\n",
    "evaluate(model_loaded,env, verbose=1)"
   ]
  }
 ],
 "metadata": {
  "interpreter": {
   "hash": "3fe87c7677a9be80aab770929aa8f3d40850ac08a0f73ec246342c77c48f1c11"
  },
  "kernelspec": {
   "display_name": "Python 3.7.2 64-bit ('pydrl': conda)",
   "name": "python3"
  },
  "language_info": {
   "codemirror_mode": {
    "name": "ipython",
    "version": 3
   },
   "file_extension": ".py",
   "mimetype": "text/x-python",
   "name": "python",
   "nbconvert_exporter": "python",
   "pygments_lexer": "ipython3",
   "version": "3.7.2"
  },
  "orig_nbformat": 4
 },
 "nbformat": 4,
 "nbformat_minor": 2
}
